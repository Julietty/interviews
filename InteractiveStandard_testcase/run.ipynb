{
 "cells": [
  {
   "cell_type": "markdown",
   "id": "bda96d49-787f-4451-a4a7-8227fd1552ca",
   "metadata": {},
   "source": [
    "# Задача: кластеризовать людей и оценить качество кластеризации"
   ]
  },
  {
   "cell_type": "markdown",
   "id": "4c8f1dd0-dcc4-4dfb-9600-e7403404fa91",
   "metadata": {},
   "source": [
    "## Изучим данные"
   ]
  },
  {
   "cell_type": "code",
   "execution_count": 1,
   "id": "99089e97-b318-49e1-82d0-2de8a4da52a3",
   "metadata": {},
   "outputs": [],
   "source": [
    "%load_ext autoreload\n",
    "%autoreload 2\n"
   ]
  },
  {
   "cell_type": "code",
   "execution_count": 18,
   "id": "054c8c1c-2e53-4f9e-bda2-a647ea71d846",
   "metadata": {},
   "outputs": [],
   "source": [
    "import pandas as pd\n",
    "\n",
    "from dataset import get_images_from_class, ImageDataset\n",
    "from params import image_dir, csv_dir"
   ]
  },
  {
   "cell_type": "code",
   "execution_count": 25,
   "id": "25bd200a-4ed1-4e5e-97b9-7da46861b269",
   "metadata": {},
   "outputs": [],
   "source": [
    "data.to_csv('pul.csv')"
   ]
  },
  {
   "cell_type": "code",
   "execution_count": 19,
   "id": "df94ac2b-8096-4cba-b519-6853f96d0298",
   "metadata": {},
   "outputs": [
    {
     "data": {
      "text/html": [
       "<div>\n",
       "<style scoped>\n",
       "    .dataframe tbody tr th:only-of-type {\n",
       "        vertical-align: middle;\n",
       "    }\n",
       "\n",
       "    .dataframe tbody tr th {\n",
       "        vertical-align: top;\n",
       "    }\n",
       "\n",
       "    .dataframe thead th {\n",
       "        text-align: right;\n",
       "    }\n",
       "</style>\n",
       "<table border=\"1\" class=\"dataframe\">\n",
       "  <thead>\n",
       "    <tr style=\"text-align: right;\">\n",
       "      <th></th>\n",
       "      <th>cluster_id</th>\n",
       "      <th>file_name</th>\n",
       "    </tr>\n",
       "  </thead>\n",
       "  <tbody>\n",
       "    <tr>\n",
       "      <th>0</th>\n",
       "      <td>f75f7082d62a44e7bfd373532877c9a6</td>\n",
       "      <td>70d7af617866428ba9d49a77505b8de0.jpg</td>\n",
       "    </tr>\n",
       "    <tr>\n",
       "      <th>1</th>\n",
       "      <td>f75f7082d62a44e7bfd373532877c9a6</td>\n",
       "      <td>075eb928960e46e0ae058f3e3e2efd4f.jpg</td>\n",
       "    </tr>\n",
       "    <tr>\n",
       "      <th>2</th>\n",
       "      <td>f75f7082d62a44e7bfd373532877c9a6</td>\n",
       "      <td>81f97e936ce84a5fa1ccabff3ad75725.jpg</td>\n",
       "    </tr>\n",
       "    <tr>\n",
       "      <th>3</th>\n",
       "      <td>f75f7082d62a44e7bfd373532877c9a6</td>\n",
       "      <td>3cbe3279c96848aa8bf24cb54e9de861.jpg</td>\n",
       "    </tr>\n",
       "    <tr>\n",
       "      <th>4</th>\n",
       "      <td>f75f7082d62a44e7bfd373532877c9a6</td>\n",
       "      <td>376ba3f5dfc44bfa90a4d72df1d5000f.jpg</td>\n",
       "    </tr>\n",
       "  </tbody>\n",
       "</table>\n",
       "</div>"
      ],
      "text/plain": [
       "                         cluster_id                             file_name\n",
       "0  f75f7082d62a44e7bfd373532877c9a6  70d7af617866428ba9d49a77505b8de0.jpg\n",
       "1  f75f7082d62a44e7bfd373532877c9a6  075eb928960e46e0ae058f3e3e2efd4f.jpg\n",
       "2  f75f7082d62a44e7bfd373532877c9a6  81f97e936ce84a5fa1ccabff3ad75725.jpg\n",
       "3  f75f7082d62a44e7bfd373532877c9a6  3cbe3279c96848aa8bf24cb54e9de861.jpg\n",
       "4  f75f7082d62a44e7bfd373532877c9a6  376ba3f5dfc44bfa90a4d72df1d5000f.jpg"
      ]
     },
     "execution_count": 19,
     "metadata": {},
     "output_type": "execute_result"
    }
   ],
   "source": [
    "data = pd.read_csv(csv_dir, index_col='Unnamed: 0')\n",
    "data.head()"
   ]
  },
  {
   "cell_type": "code",
   "execution_count": 4,
   "id": "396490ea-aa90-4dec-ae2b-99376ac19912",
   "metadata": {},
   "outputs": [
    {
     "name": "stdout",
     "output_type": "stream",
     "text": [
      "Количество кластеров: 25\n",
      "Среднее кол-во изображение на кластер: 60.84\n",
      "Минимальное кол-во изображение на кластер: 47\n",
      "Максимальное кол-во изображение на кластер: 80\n"
     ]
    }
   ],
   "source": [
    "print('Количество кластеров:', len(data.cluster_id.unique()))\n",
    "print('Среднее кол-во изображение на кластер:', data.value_counts(data['cluster_id']).mean())\n",
    "print('Минимальное кол-во изображение на кластер:', data.value_counts(data['cluster_id']).min())\n",
    "print('Максимальное кол-во изображение на кластер:', data.value_counts(data['cluster_id']).max())"
   ]
  },
  {
   "cell_type": "code",
   "execution_count": 8,
   "id": "8df57936-83dc-4f7a-b020-e6ca102023ee",
   "metadata": {},
   "outputs": [],
   "source": [
    "# Видим, что кластера достаточно наполненные\n",
    "# теперь посмотрим на сами изображения из пары кластеров\n",
    "\n",
    "# Создадим датасет\n",
    "dataset = ImageDataset(image_dir, data)"
   ]
  },
  {
   "cell_type": "code",
   "execution_count": 9,
   "id": "15133ae2-51d2-4ec4-beaa-cfe12a9eabbc",
   "metadata": {
    "collapsed": true,
    "jupyter": {
     "outputs_hidden": true
    },
    "scrolled": true
   },
   "outputs": [
    {
     "name": "stderr",
     "output_type": "stream",
     "text": [
      "INFO:root:Image path 1: test-task/clusters/70d7af617866428ba9d49a77505b8de0.jpg\n",
      "INFO:root:Image path 2: test-task/clusters/075eb928960e46e0ae058f3e3e2efd4f.jpg\n"
     ]
    },
    {
     "data": {
      "application/vnd.jupyter.widget-view+json": {
       "model_id": "36798e280dc643c0a6c06d9083de60df",
       "version_major": 2,
       "version_minor": 0
      },
      "text/plain": [
       "HBox(children=(Image(value=b'\\xff\\xd8\\xff\\xe1\\x02\\xf6Exif\\x00\\x00II*\\x00\\x08\\x00\\x00\\x00\\r\\x00\\x00\\x01\\x04\\x00…"
      ]
     },
     "metadata": {},
     "output_type": "display_data"
    },
    {
     "name": "stderr",
     "output_type": "stream",
     "text": [
      "INFO:root:Image path 1: test-task/clusters/81f97e936ce84a5fa1ccabff3ad75725.jpg\n",
      "INFO:root:Image path 2: test-task/clusters/3cbe3279c96848aa8bf24cb54e9de861.jpg\n"
     ]
    },
    {
     "data": {
      "application/vnd.jupyter.widget-view+json": {
       "model_id": "ad5db1065ee44159872461d27daf81fb",
       "version_major": 2,
       "version_minor": 0
      },
      "text/plain": [
       "HBox(children=(Image(value=b'\\xff\\xd8\\xff\\xe1\\x02\\xf6Exif\\x00\\x00II*\\x00\\x08\\x00\\x00\\x00\\r\\x00\\x00\\x01\\x04\\x00…"
      ]
     },
     "metadata": {},
     "output_type": "display_data"
    },
    {
     "name": "stderr",
     "output_type": "stream",
     "text": [
      "INFO:root:Image path 1: test-task/clusters/376ba3f5dfc44bfa90a4d72df1d5000f.jpg\n",
      "INFO:root:Image path 2: test-task/clusters/c9ff2638af8f419c8f7b6fc17fb6a2b6.jpg\n"
     ]
    },
    {
     "data": {
      "application/vnd.jupyter.widget-view+json": {
       "model_id": "7883b8103055493d9164609f3d19d451",
       "version_major": 2,
       "version_minor": 0
      },
      "text/plain": [
       "HBox(children=(Image(value=b'\\xff\\xd8\\xff\\xe1\\x02\\xf6Exif\\x00\\x00II*\\x00\\x08\\x00\\x00\\x00\\r\\x00\\x00\\x01\\x04\\x00…"
      ]
     },
     "metadata": {},
     "output_type": "display_data"
    },
    {
     "name": "stderr",
     "output_type": "stream",
     "text": [
      "INFO:root:Image path 1: test-task/clusters/d02c296097e64ef1b74f63898a5bd83e.jpg\n",
      "INFO:root:Image path 2: test-task/clusters/9bb07b5afaa84c408b5e3d9e387a6ac5.jpg\n"
     ]
    },
    {
     "data": {
      "application/vnd.jupyter.widget-view+json": {
       "model_id": "cce8b99f516b4df89e5c4330874d32a8",
       "version_major": 2,
       "version_minor": 0
      },
      "text/plain": [
       "HBox(children=(Image(value=b'\\xff\\xd8\\xff\\xe1\\x02\\xf6Exif\\x00\\x00II*\\x00\\x08\\x00\\x00\\x00\\r\\x00\\x00\\x01\\x04\\x00…"
      ]
     },
     "metadata": {},
     "output_type": "display_data"
    },
    {
     "name": "stderr",
     "output_type": "stream",
     "text": [
      "INFO:root:Image path 1: test-task/clusters/3b61f0c71340403b9859f3e0ef10d6c6.jpg\n",
      "INFO:root:Image path 2: test-task/clusters/9e063b272da24ff0b7d0b80d17bd0f13.jpg\n"
     ]
    },
    {
     "data": {
      "application/vnd.jupyter.widget-view+json": {
       "model_id": "e1dc2d8736d747bcad76ea621a67a4f8",
       "version_major": 2,
       "version_minor": 0
      },
      "text/plain": [
       "HBox(children=(Image(value=b'\\xff\\xd8\\xff\\xe1\\x02\\xf6Exif\\x00\\x00II*\\x00\\x08\\x00\\x00\\x00\\r\\x00\\x00\\x01\\x04\\x00…"
      ]
     },
     "metadata": {},
     "output_type": "display_data"
    },
    {
     "name": "stderr",
     "output_type": "stream",
     "text": [
      "INFO:root:Image path 1: test-task/clusters/982a7a2037f043d6927145fbb622925f.jpg\n",
      "INFO:root:Image path 2: test-task/clusters/b933d6f6ff6e46e19cf76c6e9ab7ce66.jpg\n"
     ]
    },
    {
     "data": {
      "application/vnd.jupyter.widget-view+json": {
       "model_id": "cae6afeeb15d45a1932af8469b1f1cb3",
       "version_major": 2,
       "version_minor": 0
      },
      "text/plain": [
       "HBox(children=(Image(value=b'\\xff\\xd8\\xff\\xe0\\x00\\x10JFIF\\x00\\x01\\x01\\x01\\x00H\\x00H\\x00\\x00\\xff\\xe1\\x03\\x06Exi…"
      ]
     },
     "metadata": {},
     "output_type": "display_data"
    },
    {
     "name": "stderr",
     "output_type": "stream",
     "text": [
      "INFO:root:Image path 1: test-task/clusters/003e4f79084c425eabb579482388820a.jpg\n",
      "INFO:root:Image path 2: test-task/clusters/7decd84644b34cd3bf8c528f07f29d24.jpg\n"
     ]
    },
    {
     "data": {
      "application/vnd.jupyter.widget-view+json": {
       "model_id": "49974ad724e542679a0c8c32b068cf34",
       "version_major": 2,
       "version_minor": 0
      },
      "text/plain": [
       "HBox(children=(Image(value=b'\\xff\\xd8\\xff\\xe1\\x02\\xf6Exif\\x00\\x00II*\\x00\\x08\\x00\\x00\\x00\\r\\x00\\x00\\x01\\x04\\x00…"
      ]
     },
     "metadata": {},
     "output_type": "display_data"
    },
    {
     "name": "stderr",
     "output_type": "stream",
     "text": [
      "INFO:root:Image path 1: test-task/clusters/829261fc36834528a7dcad9ac7d7308c.jpg\n",
      "INFO:root:Image path 2: test-task/clusters/52a3420de59f467282a54c81307df508.jpg\n"
     ]
    },
    {
     "data": {
      "application/vnd.jupyter.widget-view+json": {
       "model_id": "22e3f30b78fa4dadb39be83e478e0ac8",
       "version_major": 2,
       "version_minor": 0
      },
      "text/plain": [
       "HBox(children=(Image(value=b'\\xff\\xd8\\xff\\xe1\\x02\\xf6Exif\\x00\\x00II*\\x00\\x08\\x00\\x00\\x00\\r\\x00\\x00\\x01\\x04\\x00…"
      ]
     },
     "metadata": {},
     "output_type": "display_data"
    },
    {
     "name": "stderr",
     "output_type": "stream",
     "text": [
      "INFO:root:Image path 1: test-task/clusters/b2a5f3d1b96e43ffa1fa1a288f96cf48.jpg\n",
      "INFO:root:Image path 2: test-task/clusters/64e55aa559b64409af69321d2abf690f.jpg\n"
     ]
    },
    {
     "data": {
      "application/vnd.jupyter.widget-view+json": {
       "model_id": "688e1927e3ca423a8162ee84ef5358a4",
       "version_major": 2,
       "version_minor": 0
      },
      "text/plain": [
       "HBox(children=(Image(value=b'\\xff\\xd8\\xff\\xe0\\x00\\x10JFIF\\x00\\x01\\x01\\x01\\x00H\\x00H\\x00\\x00\\xff\\xe1\\x03\\x06Exi…"
      ]
     },
     "metadata": {},
     "output_type": "display_data"
    },
    {
     "name": "stderr",
     "output_type": "stream",
     "text": [
      "INFO:root:Image path 1: test-task/clusters/286cb5e0486544b3a4d89e548a3b4fe8.jpg\n",
      "INFO:root:Image path 2: test-task/clusters/4c91310e5b56450082da2c5956ff1194.jpg\n"
     ]
    },
    {
     "data": {
      "application/vnd.jupyter.widget-view+json": {
       "model_id": "b173522fb80746a4874c8ca197342af0",
       "version_major": 2,
       "version_minor": 0
      },
      "text/plain": [
       "HBox(children=(Image(value=b'\\xff\\xd8\\xff\\xe1\\x02\\xf6Exif\\x00\\x00II*\\x00\\x08\\x00\\x00\\x00\\r\\x00\\x00\\x01\\x04\\x00…"
      ]
     },
     "metadata": {},
     "output_type": "display_data"
    },
    {
     "name": "stderr",
     "output_type": "stream",
     "text": [
      "INFO:root:Image path 1: test-task/clusters/70fea8704e1e4d84a4e3a46b03715992.jpg\n",
      "INFO:root:Image path 2: test-task/clusters/e59b32918a4440099d3de28efe3f6653.jpg\n"
     ]
    },
    {
     "data": {
      "application/vnd.jupyter.widget-view+json": {
       "model_id": "3e103bbc3df349c7baac6fd6dfa5a981",
       "version_major": 2,
       "version_minor": 0
      },
      "text/plain": [
       "HBox(children=(Image(value=b'\\xff\\xd8\\xff\\xe1\\x02\\xf6Exif\\x00\\x00II*\\x00\\x08\\x00\\x00\\x00\\r\\x00\\x00\\x01\\x04\\x00…"
      ]
     },
     "metadata": {},
     "output_type": "display_data"
    },
    {
     "name": "stderr",
     "output_type": "stream",
     "text": [
      "INFO:root:Image path 1: test-task/clusters/a54d19b0c1024415abaeeff20c33bb3b.jpg\n",
      "INFO:root:Image path 2: test-task/clusters/ff0393ed8a134c4a9841e420a471c8cf.jpg\n"
     ]
    },
    {
     "data": {
      "application/vnd.jupyter.widget-view+json": {
       "model_id": "03d13a9a708a44e9a33b58454d1a6968",
       "version_major": 2,
       "version_minor": 0
      },
      "text/plain": [
       "HBox(children=(Image(value=b'\\xff\\xd8\\xff\\xe1\\x02\\xf6Exif\\x00\\x00II*\\x00\\x08\\x00\\x00\\x00\\r\\x00\\x00\\x01\\x04\\x00…"
      ]
     },
     "metadata": {},
     "output_type": "display_data"
    },
    {
     "name": "stderr",
     "output_type": "stream",
     "text": [
      "INFO:root:Image path 1: test-task/clusters/c531e1218e994a1e997341aca7b08606.jpg\n",
      "INFO:root:Image path 2: test-task/clusters/d3a69ebab01642479e2c8d7637ec44c3.jpg\n"
     ]
    },
    {
     "data": {
      "application/vnd.jupyter.widget-view+json": {
       "model_id": "ce44ec4432214eecb448e1f7327a7a8d",
       "version_major": 2,
       "version_minor": 0
      },
      "text/plain": [
       "HBox(children=(Image(value=b'\\xff\\xd8\\xff\\xe1\\x02\\xf6Exif\\x00\\x00II*\\x00\\x08\\x00\\x00\\x00\\r\\x00\\x00\\x01\\x04\\x00…"
      ]
     },
     "metadata": {},
     "output_type": "display_data"
    },
    {
     "name": "stderr",
     "output_type": "stream",
     "text": [
      "INFO:root:Image path 1: test-task/clusters/f3e834198da94afa989fb69a3080de39.jpg\n",
      "INFO:root:Image path 2: test-task/clusters/f0c0db12e56047528fc0b0b9d87b2f7a.jpg\n"
     ]
    },
    {
     "data": {
      "application/vnd.jupyter.widget-view+json": {
       "model_id": "6a2e52472f7b41fe8abb2462589041f0",
       "version_major": 2,
       "version_minor": 0
      },
      "text/plain": [
       "HBox(children=(Image(value=b'\\xff\\xd8\\xff\\xe0\\x00\\x10JFIF\\x00\\x01\\x01\\x01\\x00H\\x00H\\x00\\x00\\xff\\xe1\\x03\\x06Exi…"
      ]
     },
     "metadata": {},
     "output_type": "display_data"
    },
    {
     "name": "stderr",
     "output_type": "stream",
     "text": [
      "INFO:root:Image path 1: test-task/clusters/dee3533c811c4b12aafbaa3656e086e1.jpg\n",
      "INFO:root:Image path 2: test-task/clusters/842dd7a8ede44178bb5e6a3f12f7161b.jpg\n"
     ]
    },
    {
     "data": {
      "application/vnd.jupyter.widget-view+json": {
       "model_id": "8340677c330f49e3ba5131072362fab1",
       "version_major": 2,
       "version_minor": 0
      },
      "text/plain": [
       "HBox(children=(Image(value=b'\\xff\\xd8\\xff\\xe1\\x02\\xf6Exif\\x00\\x00II*\\x00\\x08\\x00\\x00\\x00\\r\\x00\\x00\\x01\\x04\\x00…"
      ]
     },
     "metadata": {},
     "output_type": "display_data"
    },
    {
     "name": "stderr",
     "output_type": "stream",
     "text": [
      "INFO:root:Image path 1: test-task/clusters/e84acc7ccfd047aaa4104224a44f61eb.jpg\n",
      "INFO:root:Image path 2: test-task/clusters/5e4fdf7d60b042d8ae5ab2487e71797d.jpg\n"
     ]
    },
    {
     "data": {
      "application/vnd.jupyter.widget-view+json": {
       "model_id": "374b92412c6544de82698ff835c258bb",
       "version_major": 2,
       "version_minor": 0
      },
      "text/plain": [
       "HBox(children=(Image(value=b'\\xff\\xd8\\xff\\xe1\\x02\\xf6Exif\\x00\\x00II*\\x00\\x08\\x00\\x00\\x00\\r\\x00\\x00\\x01\\x04\\x00…"
      ]
     },
     "metadata": {},
     "output_type": "display_data"
    },
    {
     "name": "stderr",
     "output_type": "stream",
     "text": [
      "INFO:root:Image path 1: test-task/clusters/5f1aa74c31bb4372a2e698509e430123.jpg\n",
      "INFO:root:Image path 2: test-task/clusters/bfe11bcdde2245469a8c3282d351036b.jpg\n"
     ]
    },
    {
     "data": {
      "application/vnd.jupyter.widget-view+json": {
       "model_id": "d3ba9a6c62ba481d9905b5f4d8cd8e61",
       "version_major": 2,
       "version_minor": 0
      },
      "text/plain": [
       "HBox(children=(Image(value=b'\\xff\\xd8\\xff\\xe1\\x02\\xf6Exif\\x00\\x00II*\\x00\\x08\\x00\\x00\\x00\\r\\x00\\x00\\x01\\x04\\x00…"
      ]
     },
     "metadata": {},
     "output_type": "display_data"
    },
    {
     "name": "stderr",
     "output_type": "stream",
     "text": [
      "INFO:root:Image path 1: test-task/clusters/32a7ff5a17d64a4cad90f03e173222f7.jpg\n",
      "INFO:root:Image path 2: test-task/clusters/3ff353c05bac49cb9b9a5f3514b78ff1.jpg\n"
     ]
    },
    {
     "data": {
      "application/vnd.jupyter.widget-view+json": {
       "model_id": "0493f1014ff74e1d80eabf169712f0b4",
       "version_major": 2,
       "version_minor": 0
      },
      "text/plain": [
       "HBox(children=(Image(value=b'\\xff\\xd8\\xff\\xe1\\x02\\xf6Exif\\x00\\x00II*\\x00\\x08\\x00\\x00\\x00\\r\\x00\\x00\\x01\\x04\\x00…"
      ]
     },
     "metadata": {},
     "output_type": "display_data"
    },
    {
     "name": "stderr",
     "output_type": "stream",
     "text": [
      "INFO:root:Image path 1: test-task/clusters/3768bc9b74f7423580ea4bf3c9fd1864.jpg\n",
      "INFO:root:Image path 2: test-task/clusters/b1e3ca97f4a144dda8e3de7cd4d4363e.jpg\n"
     ]
    },
    {
     "data": {
      "application/vnd.jupyter.widget-view+json": {
       "model_id": "6be698fd488e4d8299d5990bf9b1b932",
       "version_major": 2,
       "version_minor": 0
      },
      "text/plain": [
       "HBox(children=(Image(value=b'\\xff\\xd8\\xff\\xe0\\x00\\x10JFIF\\x00\\x01\\x01\\x01\\x00\\x00\\x00\\x00\\x00\\x00\\xff\\xdb\\x00C…"
      ]
     },
     "metadata": {},
     "output_type": "display_data"
    },
    {
     "name": "stderr",
     "output_type": "stream",
     "text": [
      "INFO:root:Image path 1: test-task/clusters/0218d624e1604cd5b56a960b2049b6be.jpg\n",
      "INFO:root:Image path 2: test-task/clusters/3507aafc8ec44a39b81308fa096e9c10.jpg\n"
     ]
    },
    {
     "data": {
      "application/vnd.jupyter.widget-view+json": {
       "model_id": "921c68a9c28d44b8a64d250d980c066f",
       "version_major": 2,
       "version_minor": 0
      },
      "text/plain": [
       "HBox(children=(Image(value=b'\\xff\\xd8\\xff\\xe0\\x00\\x10JFIF\\x00\\x01\\x01\\x01\\x00\\x00\\x00\\x00\\x00\\x00\\xff\\xdb\\x00C…"
      ]
     },
     "metadata": {},
     "output_type": "display_data"
    },
    {
     "name": "stderr",
     "output_type": "stream",
     "text": [
      "INFO:root:Image path 1: test-task/clusters/1724da592bd34f1dae0104abbfc38ff8.jpg\n",
      "INFO:root:Image path 2: test-task/clusters/67e861125824498d9a58faa4afc1f7a1.jpg\n"
     ]
    },
    {
     "data": {
      "application/vnd.jupyter.widget-view+json": {
       "model_id": "aa582e83c7f84ff3814a7415e8fc4c7a",
       "version_major": 2,
       "version_minor": 0
      },
      "text/plain": [
       "HBox(children=(Image(value=b'\\xff\\xd8\\xff\\xe1\\x01\\xcfExif\\x00\\x00MM\\x00*\\x00\\x00\\x00\\x08\\x00\\t\\x01\\x0e\\x00\\x02…"
      ]
     },
     "metadata": {},
     "output_type": "display_data"
    },
    {
     "name": "stderr",
     "output_type": "stream",
     "text": [
      "INFO:root:Image path 1: test-task/clusters/e44b8ae816c541d18dc7c0958c615768.jpg\n",
      "INFO:root:Image path 2: test-task/clusters/0759befd7cb04cc3856ba275a98ac103.jpg\n"
     ]
    },
    {
     "data": {
      "application/vnd.jupyter.widget-view+json": {
       "model_id": "53560746ff1c4ca995580dfe29af1e87",
       "version_major": 2,
       "version_minor": 0
      },
      "text/plain": [
       "HBox(children=(Image(value=b'\\xff\\xd8\\xff\\xe1\\x01\\xf8Exif\\x00\\x00MM\\x00*\\x00\\x00\\x00\\x08\\x00\\t\\x01\\x0e\\x00\\x02…"
      ]
     },
     "metadata": {},
     "output_type": "display_data"
    },
    {
     "name": "stderr",
     "output_type": "stream",
     "text": [
      "INFO:root:Image path 1: test-task/clusters/1cfefa7e90e14cd58562541686bf8ae9.jpg\n",
      "INFO:root:Image path 2: test-task/clusters/a330212c81404c8b8c173de540173386.jpg\n"
     ]
    },
    {
     "data": {
      "application/vnd.jupyter.widget-view+json": {
       "model_id": "4991de67623a4e0aa9039ea93b42f92b",
       "version_major": 2,
       "version_minor": 0
      },
      "text/plain": [
       "HBox(children=(Image(value=b'\\xff\\xd8\\xff\\xe1\\x02.Exif\\x00\\x00MM\\x00*\\x00\\x00\\x00\\x08\\x00\\t\\x01\\x0e\\x00\\x02\\x0…"
      ]
     },
     "metadata": {},
     "output_type": "display_data"
    },
    {
     "name": "stderr",
     "output_type": "stream",
     "text": [
      "INFO:root:Image path 1: test-task/clusters/9af02ba79e43448e9d35d10ed90861d0.jpg\n",
      "INFO:root:Image path 2: test-task/clusters/9e6fd414006248c88990d7466fa0a29e.jpg\n"
     ]
    },
    {
     "data": {
      "application/vnd.jupyter.widget-view+json": {
       "model_id": "64c99abf183c4780b332144343b86656",
       "version_major": 2,
       "version_minor": 0
      },
      "text/plain": [
       "HBox(children=(Image(value=b'\\xff\\xd8\\xff\\xe1\\x01\\xdaExif\\x00\\x00MM\\x00*\\x00\\x00\\x00\\x08\\x00\\t\\x01\\x0e\\x00\\x02…"
      ]
     },
     "metadata": {},
     "output_type": "display_data"
    },
    {
     "name": "stderr",
     "output_type": "stream",
     "text": [
      "INFO:root:Image path 1: test-task/clusters/66fb235418774e4bbc015aea0c2713ff.jpg\n",
      "INFO:root:Image path 2: test-task/clusters/e44e11ff36cb4fb4b800be0bd5e5b908.jpg\n"
     ]
    },
    {
     "data": {
      "application/vnd.jupyter.widget-view+json": {
       "model_id": "b12941cfe6db497398ea3727a19494bd",
       "version_major": 2,
       "version_minor": 0
      },
      "text/plain": [
       "HBox(children=(Image(value=b'\\xff\\xd8\\xff\\xe1\\x02\\xc4Exif\\x00\\x00MM\\x00*\\x00\\x00\\x00\\x08\\x00\\t\\x01\\x0e\\x00\\x02…"
      ]
     },
     "metadata": {},
     "output_type": "display_data"
    },
    {
     "name": "stderr",
     "output_type": "stream",
     "text": [
      "INFO:root:Image path 1: test-task/clusters/dfa79c94e489417aaeeb57018f435fd4.jpg\n",
      "INFO:root:Image path 2: test-task/clusters/be9c7bb1d7e54dcea592e78f60fda72a.jpg\n"
     ]
    },
    {
     "data": {
      "application/vnd.jupyter.widget-view+json": {
       "model_id": "1ddb5826fc0f4cea99c5fc105a5f6b2b",
       "version_major": 2,
       "version_minor": 0
      },
      "text/plain": [
       "HBox(children=(Image(value=b'\\xff\\xd8\\xff\\xe1\\x01\\xeeExif\\x00\\x00MM\\x00*\\x00\\x00\\x00\\x08\\x00\\t\\x01\\x0e\\x00\\x02…"
      ]
     },
     "metadata": {},
     "output_type": "display_data"
    },
    {
     "name": "stderr",
     "output_type": "stream",
     "text": [
      "INFO:root:Image path 1: test-task/clusters/2cd31edbc53344e69d6a6e205744bfba.jpg\n",
      "INFO:root:Image path 2: test-task/clusters/02d55a867b7e42c093bcef36192e9462.jpg\n"
     ]
    },
    {
     "data": {
      "application/vnd.jupyter.widget-view+json": {
       "model_id": "79db69fb141247db8188b2b9c7d3a010",
       "version_major": 2,
       "version_minor": 0
      },
      "text/plain": [
       "HBox(children=(Image(value=b'\\xff\\xd8\\xff\\xe0\\x00\\x10JFIF\\x00\\x01\\x01\\x01\\x00\\x00\\x00\\x00\\x00\\x00\\xff\\xdb\\x00C…"
      ]
     },
     "metadata": {},
     "output_type": "display_data"
    },
    {
     "name": "stderr",
     "output_type": "stream",
     "text": [
      "INFO:root:Image path 1: test-task/clusters/3881c9eeb3054bb1af699ec8ce921fdd.jpg\n",
      "INFO:root:Image path 2: test-task/clusters/267bfc8a3d7a4062b8c344adaf5da845.jpg\n"
     ]
    },
    {
     "data": {
      "application/vnd.jupyter.widget-view+json": {
       "model_id": "dee6fc68f43f439ebd499a1d3819e255",
       "version_major": 2,
       "version_minor": 0
      },
      "text/plain": [
       "HBox(children=(Image(value=b'\\xff\\xd8\\xff\\xe1\\x02\\xa2Exif\\x00\\x00MM\\x00*\\x00\\x00\\x00\\x08\\x00\\t\\x01\\x0e\\x00\\x02…"
      ]
     },
     "metadata": {},
     "output_type": "display_data"
    },
    {
     "name": "stderr",
     "output_type": "stream",
     "text": [
      "INFO:root:Image path 1: test-task/clusters/b22bca1baff94f13bfa779e314796da3.jpg\n",
      "INFO:root:Image path 2: test-task/clusters/b8099d5b5b8e44479e8d03840f3f90e7.jpg\n"
     ]
    },
    {
     "data": {
      "application/vnd.jupyter.widget-view+json": {
       "model_id": "54ac8a4d0b354f6ba24c313b3aa61ac8",
       "version_major": 2,
       "version_minor": 0
      },
      "text/plain": [
       "HBox(children=(Image(value=b'\\xff\\xd8\\xff\\xe1\\x02\\x15Exif\\x00\\x00MM\\x00*\\x00\\x00\\x00\\x08\\x00\\t\\x01\\x0e\\x00\\x02…"
      ]
     },
     "metadata": {},
     "output_type": "display_data"
    },
    {
     "name": "stderr",
     "output_type": "stream",
     "text": [
      "INFO:root:Image path 1: test-task/clusters/6bc320d7c05a4605b5be28a047ffe8fa.jpg\n",
      "INFO:root:Image path 2: test-task/clusters/5d15f95f4b11441b88ef9a92adf50ada.jpg\n"
     ]
    },
    {
     "data": {
      "application/vnd.jupyter.widget-view+json": {
       "model_id": "6fe23d285a2f40a88431e893f90a5cba",
       "version_major": 2,
       "version_minor": 0
      },
      "text/plain": [
       "HBox(children=(Image(value=b'\\xff\\xd8\\xff\\xe0\\x00\\x10JFIF\\x00\\x01\\x01\\x01\\x00\\x00\\x00\\x00\\x00\\x00\\xff\\xdb\\x00C…"
      ]
     },
     "metadata": {},
     "output_type": "display_data"
    },
    {
     "name": "stderr",
     "output_type": "stream",
     "text": [
      "INFO:root:Image path 1: test-task/clusters/31d1bc32cd3340dcaa36d90af23c7150.jpg\n",
      "INFO:root:Image path 2: test-task/clusters/8a7436a6fdbf4dccac93e798471b8860.jpg\n"
     ]
    },
    {
     "data": {
      "application/vnd.jupyter.widget-view+json": {
       "model_id": "b07199fc640744ffb45554c47481dd3a",
       "version_major": 2,
       "version_minor": 0
      },
      "text/plain": [
       "HBox(children=(Image(value=b'\\xff\\xd8\\xff\\xe1\\x01\\xacExif\\x00\\x00MM\\x00*\\x00\\x00\\x00\\x08\\x00\\t\\x01\\x0e\\x00\\x02…"
      ]
     },
     "metadata": {},
     "output_type": "display_data"
    },
    {
     "name": "stderr",
     "output_type": "stream",
     "text": [
      "INFO:root:Image path 1: test-task/clusters/2fdca47942164478907a224bacd98c91.jpg\n",
      "INFO:root:Image path 2: test-task/clusters/688b1092d4e44ba49283cb8b17ac58a4.jpg\n"
     ]
    },
    {
     "data": {
      "application/vnd.jupyter.widget-view+json": {
       "model_id": "ff39417eab334a018a4f58c1b889ca2f",
       "version_major": 2,
       "version_minor": 0
      },
      "text/plain": [
       "HBox(children=(Image(value=b'\\xff\\xd8\\xff\\xe1\\x01\\xdeExif\\x00\\x00MM\\x00*\\x00\\x00\\x00\\x08\\x00\\t\\x01\\x0e\\x00\\x02…"
      ]
     },
     "metadata": {},
     "output_type": "display_data"
    },
    {
     "name": "stderr",
     "output_type": "stream",
     "text": [
      "INFO:root:Image path 1: test-task/clusters/dcd5ceef1e88462a945811fe1ba5bf2b.jpg\n",
      "INFO:root:Image path 2: test-task/clusters/5672b643e7e249d5b96847f7a8d89ddf.jpg\n"
     ]
    },
    {
     "data": {
      "application/vnd.jupyter.widget-view+json": {
       "model_id": "dc9ac55f9c834476818c458b826643d3",
       "version_major": 2,
       "version_minor": 0
      },
      "text/plain": [
       "HBox(children=(Image(value=b'\\xff\\xd8\\xff\\xe1\\x01{Exif\\x00\\x00MM\\x00*\\x00\\x00\\x00\\x08\\x00\\x08\\x01\\x0e\\x00\\x02\\…"
      ]
     },
     "metadata": {},
     "output_type": "display_data"
    },
    {
     "name": "stderr",
     "output_type": "stream",
     "text": [
      "INFO:root:Image path 1: test-task/clusters/626ca228a0564af8b06f4043e08f4d9c.jpg\n",
      "INFO:root:Image path 2: test-task/clusters/a523cd3e015c47a2ab22276d90a1a3d8.jpg\n"
     ]
    },
    {
     "data": {
      "application/vnd.jupyter.widget-view+json": {
       "model_id": "f2ace263e6d44feca9f718bc27e11cca",
       "version_major": 2,
       "version_minor": 0
      },
      "text/plain": [
       "HBox(children=(Image(value=b'\\xff\\xd8\\xff\\xe1\\x01\\x86Exif\\x00\\x00MM\\x00*\\x00\\x00\\x00\\x08\\x00\\t\\x01\\x0e\\x00\\x02…"
      ]
     },
     "metadata": {},
     "output_type": "display_data"
    },
    {
     "name": "stderr",
     "output_type": "stream",
     "text": [
      "INFO:root:Image path 1: test-task/clusters/05488f7bbf6d4c5fa16ff0031eaeab2f.jpg\n",
      "INFO:root:Image path 2: test-task/clusters/59d5860225e249bdb7a7f3787861bcdd.jpg\n"
     ]
    },
    {
     "data": {
      "application/vnd.jupyter.widget-view+json": {
       "model_id": "47d9e56271c844b8a9d8a6ea89d2de40",
       "version_major": 2,
       "version_minor": 0
      },
      "text/plain": [
       "HBox(children=(Image(value=b'\\xff\\xd8\\xff\\xe1\\x02\\x0cExif\\x00\\x00MM\\x00*\\x00\\x00\\x00\\x08\\x00\\t\\x01\\x0e\\x00\\x02…"
      ]
     },
     "metadata": {},
     "output_type": "display_data"
    },
    {
     "name": "stderr",
     "output_type": "stream",
     "text": [
      "INFO:root:Image path 1: test-task/clusters/f6bb725ae17c4768988e67dacaffb8b1.jpg\n",
      "INFO:root:Image path 2: test-task/clusters/0e80f179c10746c6ba41db057ac5e2bc.jpg\n"
     ]
    },
    {
     "data": {
      "application/vnd.jupyter.widget-view+json": {
       "model_id": "4f09bc39571043eaa88c1a91a9b06c27",
       "version_major": 2,
       "version_minor": 0
      },
      "text/plain": [
       "HBox(children=(Image(value=b'\\xff\\xd8\\xff\\xe1\\x01\\xc9Exif\\x00\\x00MM\\x00*\\x00\\x00\\x00\\x08\\x00\\t\\x01\\x0e\\x00\\x02…"
      ]
     },
     "metadata": {},
     "output_type": "display_data"
    },
    {
     "name": "stderr",
     "output_type": "stream",
     "text": [
      "INFO:root:Image path 1: test-task/clusters/4c72af5aee074260892ed43cfcd635ea.jpg\n",
      "INFO:root:Image path 2: test-task/clusters/b02e3b95d1be48ddbc738cfe58480d39.jpg\n"
     ]
    },
    {
     "data": {
      "application/vnd.jupyter.widget-view+json": {
       "model_id": "d1d8e6ca1112467a9edb14a6a7f20c32",
       "version_major": 2,
       "version_minor": 0
      },
      "text/plain": [
       "HBox(children=(Image(value=b'\\xff\\xd8\\xff\\xe1\\x01\\x85Exif\\x00\\x00MM\\x00*\\x00\\x00\\x00\\x08\\x00\\t\\x01\\x0e\\x00\\x02…"
      ]
     },
     "metadata": {},
     "output_type": "display_data"
    },
    {
     "name": "stderr",
     "output_type": "stream",
     "text": [
      "INFO:root:Image path 1: test-task/clusters/7e34ec19dfff48be96a704f65701dbf3.jpg\n",
      "INFO:root:Image path 2: test-task/clusters/d85ebbf9c247429a9ad53049a0a2e538.jpg\n"
     ]
    },
    {
     "data": {
      "application/vnd.jupyter.widget-view+json": {
       "model_id": "86e4cb653af1441c929eab83d6bb0f06",
       "version_major": 2,
       "version_minor": 0
      },
      "text/plain": [
       "HBox(children=(Image(value=b'\\xff\\xd8\\xff\\xe0\\x00\\x10JFIF\\x00\\x01\\x01\\x01\\x00\\x00\\x00\\x00\\x00\\x00\\xff\\xdb\\x00C…"
      ]
     },
     "metadata": {},
     "output_type": "display_data"
    },
    {
     "name": "stderr",
     "output_type": "stream",
     "text": [
      "INFO:root:Image path 1: test-task/clusters/b7b3a8a824c94419add2a6b7fb8d2c0d.jpg\n",
      "INFO:root:Image path 2: test-task/clusters/1e0e4b79278a4dc1ab9df812d41615e0.jpg\n"
     ]
    },
    {
     "data": {
      "application/vnd.jupyter.widget-view+json": {
       "model_id": "18ec9958adbd45f1827c5df291560c7e",
       "version_major": 2,
       "version_minor": 0
      },
      "text/plain": [
       "HBox(children=(Image(value=b'\\xff\\xd8\\xff\\xe0\\x00\\x10JFIF\\x00\\x01\\x01\\x01\\x00\\x00\\x00\\x00\\x00\\x00\\xff\\xdb\\x00C…"
      ]
     },
     "metadata": {},
     "output_type": "display_data"
    },
    {
     "name": "stderr",
     "output_type": "stream",
     "text": [
      "INFO:root:Image path 1: test-task/clusters/0c8a2b78073d4977884367cf745df753.jpg\n",
      "INFO:root:Image path 2: test-task/clusters/ab7abdd53cf344e3b07b0795a4eb6adc.jpg\n"
     ]
    },
    {
     "data": {
      "application/vnd.jupyter.widget-view+json": {
       "model_id": "c4892b8fbf2849ca836b9b18c2ed5f51",
       "version_major": 2,
       "version_minor": 0
      },
      "text/plain": [
       "HBox(children=(Image(value=b'\\xff\\xd8\\xff\\xe1\\x01\\xd7Exif\\x00\\x00MM\\x00*\\x00\\x00\\x00\\x08\\x00\\t\\x01\\x0e\\x00\\x02…"
      ]
     },
     "metadata": {},
     "output_type": "display_data"
    }
   ],
   "source": [
    "# Отрисуем объекты внутри класса\n",
    "get_images_from_class(dataset, class_id='f75f7082d62a44e7bfd373532877c9a6')"
   ]
  },
  {
   "cell_type": "code",
   "execution_count": 11,
   "id": "609554d4-c672-4751-aeb3-5357643ecac4",
   "metadata": {
    "collapsed": true,
    "jupyter": {
     "outputs_hidden": true
    }
   },
   "outputs": [
    {
     "name": "stderr",
     "output_type": "stream",
     "text": [
      "INFO:root:Image path 1: test-task/clusters/e6b0350f75224849a457517d519ddb1f.jpg\n",
      "INFO:root:Image path 2: test-task/clusters/10cf4ad0259a423ca19a32a07eccd26c.jpg\n"
     ]
    },
    {
     "data": {
      "application/vnd.jupyter.widget-view+json": {
       "model_id": "92dc3c003b2e49d7a6273a6fb496113c",
       "version_major": 2,
       "version_minor": 0
      },
      "text/plain": [
       "HBox(children=(Image(value=b'\\xff\\xd8\\xff\\xe1$\\xf9Exif\\x00\\x00II*\\x00\\x08\\x00\\x00\\x00\\x0f\\x00\\x0e\\x01\\x02\\x00 …"
      ]
     },
     "metadata": {},
     "output_type": "display_data"
    },
    {
     "name": "stderr",
     "output_type": "stream",
     "text": [
      "INFO:root:Image path 1: test-task/clusters/b928448505b240d2a35d23d7799cd2bb.jpg\n",
      "INFO:root:Image path 2: test-task/clusters/9dbbc81a5b944b10aa66dff3798df40d.jpg\n"
     ]
    },
    {
     "data": {
      "application/vnd.jupyter.widget-view+json": {
       "model_id": "e3212804087f47d1b77a96f0f4b6fee7",
       "version_major": 2,
       "version_minor": 0
      },
      "text/plain": [
       "HBox(children=(Image(value=b\"\\xff\\xd8\\xff\\xe1'yExif\\x00\\x00II*\\x00\\x08\\x00\\x00\\x00\\x0f\\x00\\x0e\\x01\\x02\\x00 \\x0…"
      ]
     },
     "metadata": {},
     "output_type": "display_data"
    },
    {
     "name": "stderr",
     "output_type": "stream",
     "text": [
      "INFO:root:Image path 1: test-task/clusters/5bb9229d33de4698aa63a0790bfcdfa1.jpg\n",
      "INFO:root:Image path 2: test-task/clusters/2142ff0a06cf45ae8eca9119dd091df9.jpg\n"
     ]
    },
    {
     "data": {
      "application/vnd.jupyter.widget-view+json": {
       "model_id": "b6cd04df98c84f99b5d75a4dc87c0fe8",
       "version_major": 2,
       "version_minor": 0
      },
      "text/plain": [
       "HBox(children=(Image(value=b'\\xff\\xd8\\xff\\xe1,yExif\\x00\\x00II*\\x00\\x08\\x00\\x00\\x00\\x0f\\x00\\x0e\\x01\\x02\\x00 \\x0…"
      ]
     },
     "metadata": {},
     "output_type": "display_data"
    },
    {
     "name": "stderr",
     "output_type": "stream",
     "text": [
      "INFO:root:Image path 1: test-task/clusters/04af6b422a1842deb5a45aad75e21ec0.jpg\n",
      "INFO:root:Image path 2: test-task/clusters/913d56864ebf4e9b8446f6909ea65ca3.jpg\n"
     ]
    },
    {
     "data": {
      "application/vnd.jupyter.widget-view+json": {
       "model_id": "e38500bc747449c8af57e51edcccee96",
       "version_major": 2,
       "version_minor": 0
      },
      "text/plain": [
       "HBox(children=(Image(value=b'\\xff\\xd8\\xff\\xe1$\\xf9Exif\\x00\\x00II*\\x00\\x08\\x00\\x00\\x00\\x0f\\x00\\x0e\\x01\\x02\\x00 …"
      ]
     },
     "metadata": {},
     "output_type": "display_data"
    },
    {
     "name": "stderr",
     "output_type": "stream",
     "text": [
      "INFO:root:Image path 1: test-task/clusters/1266ec2c9d0c4bcaa48ac1c24e3e80e1.jpg\n",
      "INFO:root:Image path 2: test-task/clusters/7a46ac132c19478da783921a3b999e28.jpg\n"
     ]
    },
    {
     "data": {
      "application/vnd.jupyter.widget-view+json": {
       "model_id": "20f98f9175794b03bbe920971302debc",
       "version_major": 2,
       "version_minor": 0
      },
      "text/plain": [
       "HBox(children=(Image(value=b\"\\xff\\xd8\\xff\\xe1'yExif\\x00\\x00II*\\x00\\x08\\x00\\x00\\x00\\x0f\\x00\\x0e\\x01\\x02\\x00 \\x0…"
      ]
     },
     "metadata": {},
     "output_type": "display_data"
    },
    {
     "name": "stderr",
     "output_type": "stream",
     "text": [
      "INFO:root:Image path 1: test-task/clusters/4ec30eb0445a4c86b4afd864dae84b83.jpg\n",
      "INFO:root:Image path 2: test-task/clusters/31b8dafb1e324b14b8ecc4b7b0ed3189.jpg\n"
     ]
    },
    {
     "data": {
      "application/vnd.jupyter.widget-view+json": {
       "model_id": "0c92e1083ca04981bb66181d399b4ccf",
       "version_major": 2,
       "version_minor": 0
      },
      "text/plain": [
       "HBox(children=(Image(value=b'\\xff\\xd8\\xff\\xe1,yExif\\x00\\x00II*\\x00\\x08\\x00\\x00\\x00\\x0f\\x00\\x0e\\x01\\x02\\x00 \\x0…"
      ]
     },
     "metadata": {},
     "output_type": "display_data"
    },
    {
     "name": "stderr",
     "output_type": "stream",
     "text": [
      "INFO:root:Image path 1: test-task/clusters/f32b054e7b6846679495226436204d33.jpg\n",
      "INFO:root:Image path 2: test-task/clusters/fde80d12041e41df834475eb78f3cd26.jpg\n"
     ]
    },
    {
     "data": {
      "application/vnd.jupyter.widget-view+json": {
       "model_id": "86703bc441ec41cca06f6413d0b8413e",
       "version_major": 2,
       "version_minor": 0
      },
      "text/plain": [
       "HBox(children=(Image(value=b'\\xff\\xd8\\xff\\xe1*\\xf9Exif\\x00\\x00II*\\x00\\x08\\x00\\x00\\x00\\x0f\\x00\\x0e\\x01\\x02\\x00 …"
      ]
     },
     "metadata": {},
     "output_type": "display_data"
    },
    {
     "name": "stderr",
     "output_type": "stream",
     "text": [
      "INFO:root:Image path 1: test-task/clusters/a7b486bfebe84e5e9cd8a9a84bca2239.jpg\n",
      "INFO:root:Image path 2: test-task/clusters/0169105ef9c44675af579b2491748b5d.jpg\n"
     ]
    },
    {
     "data": {
      "application/vnd.jupyter.widget-view+json": {
       "model_id": "1b62bc820f844513abaffc68182a9343",
       "version_major": 2,
       "version_minor": 0
      },
      "text/plain": [
       "HBox(children=(Image(value=b'\\xff\\xd8\\xff\\xe1+\\xf9Exif\\x00\\x00II*\\x00\\x08\\x00\\x00\\x00\\x0f\\x00\\x0e\\x01\\x02\\x00 …"
      ]
     },
     "metadata": {},
     "output_type": "display_data"
    },
    {
     "name": "stderr",
     "output_type": "stream",
     "text": [
      "INFO:root:Image path 1: test-task/clusters/0dd75e040c1744cfb81d0b3be8656b1f.jpg\n",
      "INFO:root:Image path 2: test-task/clusters/70bf01a13e414853b74d7c115bcafaef.jpg\n"
     ]
    },
    {
     "data": {
      "application/vnd.jupyter.widget-view+json": {
       "model_id": "3a4f36b7be1140fb9939facfd911b87f",
       "version_major": 2,
       "version_minor": 0
      },
      "text/plain": [
       "HBox(children=(Image(value=b'\\xff\\xd8\\xff\\xe1-yExif\\x00\\x00II*\\x00\\x08\\x00\\x00\\x00\\x0f\\x00\\x0e\\x01\\x02\\x00 \\x0…"
      ]
     },
     "metadata": {},
     "output_type": "display_data"
    },
    {
     "name": "stderr",
     "output_type": "stream",
     "text": [
      "INFO:root:Image path 1: test-task/clusters/3bf451f91fd340d586650e9b4103a5f5.jpg\n",
      "INFO:root:Image path 2: test-task/clusters/930f0a648fe84037b553098edafe2654.jpg\n"
     ]
    },
    {
     "data": {
      "application/vnd.jupyter.widget-view+json": {
       "model_id": "06ae0c237cf14fe1847c043f0b076bad",
       "version_major": 2,
       "version_minor": 0
      },
      "text/plain": [
       "HBox(children=(Image(value=b\"\\xff\\xd8\\xff\\xe1'yExif\\x00\\x00II*\\x00\\x08\\x00\\x00\\x00\\x0f\\x00\\x0e\\x01\\x02\\x00 \\x0…"
      ]
     },
     "metadata": {},
     "output_type": "display_data"
    },
    {
     "name": "stderr",
     "output_type": "stream",
     "text": [
      "INFO:root:Image path 1: test-task/clusters/bd66bd7d42cc4d1aaf0908f9712635e8.jpg\n",
      "INFO:root:Image path 2: test-task/clusters/72c799edd3fd404c8dfca076b33ca1ba.jpg\n"
     ]
    },
    {
     "data": {
      "application/vnd.jupyter.widget-view+json": {
       "model_id": "e55b8cde93b7442692faadafecf192f0",
       "version_major": 2,
       "version_minor": 0
      },
      "text/plain": [
       "HBox(children=(Image(value=b'\\xff\\xd8\\xff\\xe1+\\xf9Exif\\x00\\x00II*\\x00\\x08\\x00\\x00\\x00\\x0f\\x00\\x0e\\x01\\x02\\x00 …"
      ]
     },
     "metadata": {},
     "output_type": "display_data"
    },
    {
     "name": "stderr",
     "output_type": "stream",
     "text": [
      "INFO:root:Image path 1: test-task/clusters/14d99621726b47aea39c4a03f9f30bfd.jpg\n",
      "INFO:root:Image path 2: test-task/clusters/0ff8f1fcd6f94206b1d224aca6b59564.jpg\n"
     ]
    },
    {
     "data": {
      "application/vnd.jupyter.widget-view+json": {
       "model_id": "8a945a6608f24dec93d3644b36c4252e",
       "version_major": 2,
       "version_minor": 0
      },
      "text/plain": [
       "HBox(children=(Image(value=b'\\xff\\xd8\\xff\\xe1(\\xf9Exif\\x00\\x00II*\\x00\\x08\\x00\\x00\\x00\\x0f\\x00\\x0e\\x01\\x02\\x00 …"
      ]
     },
     "metadata": {},
     "output_type": "display_data"
    },
    {
     "name": "stderr",
     "output_type": "stream",
     "text": [
      "INFO:root:Image path 1: test-task/clusters/c5564e482c294122b4c373ec0bd465f9.jpg\n",
      "INFO:root:Image path 2: test-task/clusters/87fa7db6676547878fc8bef04f1b3d7e.jpg\n"
     ]
    },
    {
     "data": {
      "application/vnd.jupyter.widget-view+json": {
       "model_id": "7a4e32c13adc404c935b9118c6c9c37c",
       "version_major": 2,
       "version_minor": 0
      },
      "text/plain": [
       "HBox(children=(Image(value=b'\\xff\\xd8\\xff\\xe12yExif\\x00\\x00II*\\x00\\x08\\x00\\x00\\x00\\x0f\\x00\\x0e\\x01\\x02\\x00 \\x0…"
      ]
     },
     "metadata": {},
     "output_type": "display_data"
    },
    {
     "name": "stderr",
     "output_type": "stream",
     "text": [
      "INFO:root:Image path 1: test-task/clusters/d3cd875fa2c04ae0b5040d9035fdac86.jpg\n",
      "INFO:root:Image path 2: test-task/clusters/d5538b5bcbdd4b3ba3f7a05495027073.jpg\n"
     ]
    },
    {
     "data": {
      "application/vnd.jupyter.widget-view+json": {
       "model_id": "a781360db3f0412c83097ce5d9626076",
       "version_major": 2,
       "version_minor": 0
      },
      "text/plain": [
       "HBox(children=(Image(value=b'\\xff\\xd8\\xff\\xe14\\xf9Exif\\x00\\x00II*\\x00\\x08\\x00\\x00\\x00\\x0f\\x00\\x0e\\x01\\x02\\x00 …"
      ]
     },
     "metadata": {},
     "output_type": "display_data"
    },
    {
     "name": "stderr",
     "output_type": "stream",
     "text": [
      "INFO:root:Image path 1: test-task/clusters/4f86ae1db07a457ba8542e361de8a3f6.jpg\n",
      "INFO:root:Image path 2: test-task/clusters/61e99623ae06469c8dcd81c388e92cee.jpg\n"
     ]
    },
    {
     "data": {
      "application/vnd.jupyter.widget-view+json": {
       "model_id": "2c9e2d1696c94ab5a523343cf77946ec",
       "version_major": 2,
       "version_minor": 0
      },
      "text/plain": [
       "HBox(children=(Image(value=b'\\xff\\xd8\\xff\\xe14yExif\\x00\\x00II*\\x00\\x08\\x00\\x00\\x00\\x0f\\x00\\x0e\\x01\\x02\\x00 \\x0…"
      ]
     },
     "metadata": {},
     "output_type": "display_data"
    },
    {
     "name": "stderr",
     "output_type": "stream",
     "text": [
      "INFO:root:Image path 1: test-task/clusters/2d71acd278344cdcabaeb0bd662abdbf.jpg\n",
      "INFO:root:Image path 2: test-task/clusters/a6605d649f714975bd0ffe8acff00111.jpg\n"
     ]
    },
    {
     "data": {
      "application/vnd.jupyter.widget-view+json": {
       "model_id": "dddf50e1287c49a0801d66e5c30ad32e",
       "version_major": 2,
       "version_minor": 0
      },
      "text/plain": [
       "HBox(children=(Image(value=b'\\xff\\xd8\\xff\\xe16\\xf9Exif\\x00\\x00II*\\x00\\x08\\x00\\x00\\x00\\x0f\\x00\\x0e\\x01\\x02\\x00 …"
      ]
     },
     "metadata": {},
     "output_type": "display_data"
    },
    {
     "name": "stderr",
     "output_type": "stream",
     "text": [
      "INFO:root:Image path 1: test-task/clusters/1a41b62fd42a432aa41dd4c03cc4a09a.jpg\n",
      "INFO:root:Image path 2: test-task/clusters/ba34e00686d6441ba63a493a144a7b91.jpg\n"
     ]
    },
    {
     "data": {
      "application/vnd.jupyter.widget-view+json": {
       "model_id": "0190a9e9969f4c86b8ac182b5c38117a",
       "version_major": 2,
       "version_minor": 0
      },
      "text/plain": [
       "HBox(children=(Image(value=b'\\xff\\xd8\\xff\\xe1+\\xf9Exif\\x00\\x00II*\\x00\\x08\\x00\\x00\\x00\\x0f\\x00\\x0e\\x01\\x02\\x00 …"
      ]
     },
     "metadata": {},
     "output_type": "display_data"
    },
    {
     "name": "stderr",
     "output_type": "stream",
     "text": [
      "INFO:root:Image path 1: test-task/clusters/c0ab7672734348ea9af650096ceab989.jpg\n",
      "INFO:root:Image path 2: test-task/clusters/04fa29c155b840958475d1db8c405b12.jpg\n"
     ]
    },
    {
     "data": {
      "application/vnd.jupyter.widget-view+json": {
       "model_id": "b854cf11f8f34f40ad880979b98e4a28",
       "version_major": 2,
       "version_minor": 0
      },
      "text/plain": [
       "HBox(children=(Image(value=b'\\xff\\xd8\\xff\\xe1%yExif\\x00\\x00II*\\x00\\x08\\x00\\x00\\x00\\x0f\\x00\\x0e\\x01\\x02\\x00 \\x0…"
      ]
     },
     "metadata": {},
     "output_type": "display_data"
    },
    {
     "name": "stderr",
     "output_type": "stream",
     "text": [
      "INFO:root:Image path 1: test-task/clusters/2c7a5f9fb17c492bbc222c2e1abe9c26.jpg\n",
      "INFO:root:Image path 2: test-task/clusters/a8d2ecf60fdd49638934de0768b026a3.jpg\n"
     ]
    },
    {
     "data": {
      "application/vnd.jupyter.widget-view+json": {
       "model_id": "4f9ff685f3954319b18acf4a2848c19f",
       "version_major": 2,
       "version_minor": 0
      },
      "text/plain": [
       "HBox(children=(Image(value=b\"\\xff\\xd8\\xff\\xe1'\\xf9Exif\\x00\\x00II*\\x00\\x08\\x00\\x00\\x00\\x0f\\x00\\x0e\\x01\\x02\\x00 …"
      ]
     },
     "metadata": {},
     "output_type": "display_data"
    },
    {
     "name": "stderr",
     "output_type": "stream",
     "text": [
      "INFO:root:Image path 1: test-task/clusters/796652ded5b242f9bf9b7138e88bb396.jpg\n",
      "INFO:root:Image path 2: test-task/clusters/530f818df23b4420a938a8591708e13f.jpg\n"
     ]
    },
    {
     "data": {
      "application/vnd.jupyter.widget-view+json": {
       "model_id": "7e91742af3ce4fc4bf20505dfbb82fca",
       "version_major": 2,
       "version_minor": 0
      },
      "text/plain": [
       "HBox(children=(Image(value=b'\\xff\\xd8\\xff\\xe1&\\xf9Exif\\x00\\x00II*\\x00\\x08\\x00\\x00\\x00\\x0f\\x00\\x0e\\x01\\x02\\x00 …"
      ]
     },
     "metadata": {},
     "output_type": "display_data"
    },
    {
     "name": "stderr",
     "output_type": "stream",
     "text": [
      "INFO:root:Image path 1: test-task/clusters/d59f0dbb3f1e4232985e7195b9393569.jpg\n",
      "INFO:root:Image path 2: test-task/clusters/9dae0e6e16974768a5928f1a10228f7e.jpg\n"
     ]
    },
    {
     "data": {
      "application/vnd.jupyter.widget-view+json": {
       "model_id": "0d37211bf60d4ced8ad59de1daf30553",
       "version_major": 2,
       "version_minor": 0
      },
      "text/plain": [
       "HBox(children=(Image(value=b'\\xff\\xd8\\xff\\xe1\\x01\\xa6Exif\\x00\\x00MM\\x00*\\x00\\x00\\x00\\x08\\x00\\t\\x01\\x0e\\x00\\x02…"
      ]
     },
     "metadata": {},
     "output_type": "display_data"
    },
    {
     "name": "stderr",
     "output_type": "stream",
     "text": [
      "INFO:root:Image path 1: test-task/clusters/dae3f6f3cfaa4e34ac750eadb885f5c1.jpg\n",
      "INFO:root:Image path 2: test-task/clusters/546305c8ebfd45d394cda8dc0d381fb3.jpg\n"
     ]
    },
    {
     "data": {
      "application/vnd.jupyter.widget-view+json": {
       "model_id": "24ec1392169f4423b7785bd80cf7c5e4",
       "version_major": 2,
       "version_minor": 0
      },
      "text/plain": [
       "HBox(children=(Image(value=b'\\xff\\xd8\\xff\\xe0\\x00\\x10JFIF\\x00\\x01\\x01\\x01\\x00\\x00\\x00\\x00\\x00\\x00\\xff\\xdb\\x00C…"
      ]
     },
     "metadata": {},
     "output_type": "display_data"
    },
    {
     "name": "stderr",
     "output_type": "stream",
     "text": [
      "INFO:root:Image path 1: test-task/clusters/66d4608c7d4f44bb9ba82d92df53332f.jpg\n",
      "INFO:root:Image path 2: test-task/clusters/91354557349c4334a6abd75ff8d66f79.jpg\n"
     ]
    },
    {
     "data": {
      "application/vnd.jupyter.widget-view+json": {
       "model_id": "7012817815c345df888a9535156fdf80",
       "version_major": 2,
       "version_minor": 0
      },
      "text/plain": [
       "HBox(children=(Image(value=b'\\xff\\xd8\\xff\\xe1\\x01\\xc0Exif\\x00\\x00MM\\x00*\\x00\\x00\\x00\\x08\\x00\\t\\x01\\x0e\\x00\\x02…"
      ]
     },
     "metadata": {},
     "output_type": "display_data"
    },
    {
     "name": "stderr",
     "output_type": "stream",
     "text": [
      "INFO:root:Image path 1: test-task/clusters/d125aa184bf049c589cf6a70a158d0e8.jpg\n",
      "INFO:root:Image path 2: test-task/clusters/e345c12751ea4c2bb0db376883c826d1.jpg\n"
     ]
    },
    {
     "data": {
      "application/vnd.jupyter.widget-view+json": {
       "model_id": "73b7fb95e8f14c2ea386a6f837b66c57",
       "version_major": 2,
       "version_minor": 0
      },
      "text/plain": [
       "HBox(children=(Image(value=b'\\xff\\xd8\\xff\\xe0\\x00\\x10JFIF\\x00\\x01\\x01\\x01\\x00\\x00\\x00\\x00\\x00\\x00\\xff\\xdb\\x00C…"
      ]
     },
     "metadata": {},
     "output_type": "display_data"
    },
    {
     "name": "stderr",
     "output_type": "stream",
     "text": [
      "INFO:root:Image path 1: test-task/clusters/93a8adee86de4e0ea31693ea04babddb.jpg\n",
      "INFO:root:Image path 2: test-task/clusters/3688cd3cd9da443aadb13f4922972fe0.jpg\n"
     ]
    },
    {
     "data": {
      "application/vnd.jupyter.widget-view+json": {
       "model_id": "d40e60cc330144a9be3aa6c3cb66614f",
       "version_major": 2,
       "version_minor": 0
      },
      "text/plain": [
       "HBox(children=(Image(value=b'\\xff\\xd8\\xff\\xe1\\x02\\xb6Exif\\x00\\x00MM\\x00*\\x00\\x00\\x00\\x08\\x00\\t\\x01\\x0e\\x00\\x02…"
      ]
     },
     "metadata": {},
     "output_type": "display_data"
    },
    {
     "name": "stderr",
     "output_type": "stream",
     "text": [
      "INFO:root:Image path 1: test-task/clusters/b565c425db864725b09ebef7a696ae1d.jpg\n",
      "INFO:root:Image path 2: test-task/clusters/f1ea62340eff4d569110a20469a67ae0.jpg\n"
     ]
    },
    {
     "data": {
      "application/vnd.jupyter.widget-view+json": {
       "model_id": "a316d2c8f81e426f9b23409b1d6f6240",
       "version_major": 2,
       "version_minor": 0
      },
      "text/plain": [
       "HBox(children=(Image(value=b'\\xff\\xd8\\xff\\xe1\\x02\\x9fExif\\x00\\x00MM\\x00*\\x00\\x00\\x00\\x08\\x00\\t\\x01\\x0e\\x00\\x02…"
      ]
     },
     "metadata": {},
     "output_type": "display_data"
    },
    {
     "name": "stderr",
     "output_type": "stream",
     "text": [
      "INFO:root:Image path 1: test-task/clusters/427526da49dd4beaad68572a14a7d3ad.jpg\n",
      "INFO:root:Image path 2: test-task/clusters/87fe67450d6348f69f373a8c5a6fc375.jpg\n"
     ]
    },
    {
     "data": {
      "application/vnd.jupyter.widget-view+json": {
       "model_id": "49e815bb6a2b48f8986561edf056946f",
       "version_major": 2,
       "version_minor": 0
      },
      "text/plain": [
       "HBox(children=(Image(value=b'\\xff\\xd8\\xff\\xe1\\x02\\x01Exif\\x00\\x00MM\\x00*\\x00\\x00\\x00\\x08\\x00\\t\\x01\\x0e\\x00\\x02…"
      ]
     },
     "metadata": {},
     "output_type": "display_data"
    },
    {
     "name": "stderr",
     "output_type": "stream",
     "text": [
      "INFO:root:Image path 1: test-task/clusters/2df78bf2338842e5a48f21a1aed0a415.jpg\n",
      "INFO:root:Image path 2: test-task/clusters/e86492fd822543e382d4e4b3f8098f5f.jpg\n"
     ]
    },
    {
     "data": {
      "application/vnd.jupyter.widget-view+json": {
       "model_id": "6b0d9c61077649d58d78cc4c430920b4",
       "version_major": 2,
       "version_minor": 0
      },
      "text/plain": [
       "HBox(children=(Image(value=b'\\xff\\xd8\\xff\\xe1\\x01\\xb4Exif\\x00\\x00MM\\x00*\\x00\\x00\\x00\\x08\\x00\\t\\x01\\x0e\\x00\\x02…"
      ]
     },
     "metadata": {},
     "output_type": "display_data"
    },
    {
     "name": "stderr",
     "output_type": "stream",
     "text": [
      "INFO:root:Image path 1: test-task/clusters/ea1b49b2ab5343218678d71058f18a96.jpg\n",
      "INFO:root:Image path 2: test-task/clusters/95b3bb9241484edf8ab2152756d37654.jpg\n"
     ]
    },
    {
     "data": {
      "application/vnd.jupyter.widget-view+json": {
       "model_id": "93340f4115414e229520aa3229388efe",
       "version_major": 2,
       "version_minor": 0
      },
      "text/plain": [
       "HBox(children=(Image(value=b'\\xff\\xd8\\xff\\xe1\\x02\\tExif\\x00\\x00MM\\x00*\\x00\\x00\\x00\\x08\\x00\\t\\x01\\x0e\\x00\\x02\\x…"
      ]
     },
     "metadata": {},
     "output_type": "display_data"
    },
    {
     "name": "stderr",
     "output_type": "stream",
     "text": [
      "INFO:root:Image path 1: test-task/clusters/156499159eb2454993069e9514fda8a6.jpg\n",
      "INFO:root:Image path 2: test-task/clusters/c8b6083568394520b4ee32d011c7d98c.jpg\n"
     ]
    },
    {
     "data": {
      "application/vnd.jupyter.widget-view+json": {
       "model_id": "515608b1706744f5ab7b8a0a05c837a8",
       "version_major": 2,
       "version_minor": 0
      },
      "text/plain": [
       "HBox(children=(Image(value=b'\\xff\\xd8\\xff\\xe1\\x01\\x87Exif\\x00\\x00MM\\x00*\\x00\\x00\\x00\\x08\\x00\\t\\x01\\x0e\\x00\\x02…"
      ]
     },
     "metadata": {},
     "output_type": "display_data"
    },
    {
     "name": "stderr",
     "output_type": "stream",
     "text": [
      "INFO:root:Image path 1: test-task/clusters/4b7b770e9b53409c8d0819818eeea98a.jpg\n",
      "INFO:root:Image path 2: test-task/clusters/20d85e3007624541a92857d8fdea4e98.jpg\n"
     ]
    },
    {
     "data": {
      "application/vnd.jupyter.widget-view+json": {
       "model_id": "0f4b7e88bf6243539cfdac90356df902",
       "version_major": 2,
       "version_minor": 0
      },
      "text/plain": [
       "HBox(children=(Image(value=b'\\xff\\xd8\\xff\\xe0\\x00\\x10JFIF\\x00\\x01\\x01\\x01\\x00\\x00\\x00\\x00\\x00\\x00\\xff\\xdb\\x00C…"
      ]
     },
     "metadata": {},
     "output_type": "display_data"
    },
    {
     "name": "stderr",
     "output_type": "stream",
     "text": [
      "INFO:root:Image path 1: test-task/clusters/2d1016b1b0c04cd18c835387abf10c44.jpg\n",
      "INFO:root:Image path 2: test-task/clusters/7858648bb22240f193704164806521e9.jpg\n"
     ]
    },
    {
     "data": {
      "application/vnd.jupyter.widget-view+json": {
       "model_id": "bc47ca86731f4af583e3a6e4623be840",
       "version_major": 2,
       "version_minor": 0
      },
      "text/plain": [
       "HBox(children=(Image(value=b'\\xff\\xd8\\xff\\xe1\\x020Exif\\x00\\x00MM\\x00*\\x00\\x00\\x00\\x08\\x00\\t\\x01\\x0e\\x00\\x02\\x0…"
      ]
     },
     "metadata": {},
     "output_type": "display_data"
    },
    {
     "name": "stderr",
     "output_type": "stream",
     "text": [
      "INFO:root:Image path 1: test-task/clusters/fadebe95a10b44e2b5cec0dcf712abcf.jpg\n",
      "INFO:root:Image path 2: test-task/clusters/abf99d0feb094d6eafdeec31de9d4095.jpg\n"
     ]
    },
    {
     "data": {
      "application/vnd.jupyter.widget-view+json": {
       "model_id": "22d9c550ee604952aef9b743f825e7cf",
       "version_major": 2,
       "version_minor": 0
      },
      "text/plain": [
       "HBox(children=(Image(value=b'\\xff\\xd8\\xff\\xe0\\x00\\x10JFIF\\x00\\x01\\x01\\x01\\x00\\x00\\x00\\x00\\x00\\x00\\xff\\xdb\\x00C…"
      ]
     },
     "metadata": {},
     "output_type": "display_data"
    },
    {
     "name": "stderr",
     "output_type": "stream",
     "text": [
      "INFO:root:Image path 1: test-task/clusters/74475d246a8346e1af55f7e33927c68e.jpg\n",
      "INFO:root:Image path 2: test-task/clusters/a06c131a465e4a258fc1d6c415d3e390.jpg\n"
     ]
    },
    {
     "data": {
      "application/vnd.jupyter.widget-view+json": {
       "model_id": "b1f656d9aada4c68b55eaba6981af611",
       "version_major": 2,
       "version_minor": 0
      },
      "text/plain": [
       "HBox(children=(Image(value=b'\\xff\\xd8\\xff\\xe1\\x03\\x03Exif\\x00\\x00MM\\x00*\\x00\\x00\\x00\\x08\\x00\\t\\x01\\x0e\\x00\\x02…"
      ]
     },
     "metadata": {},
     "output_type": "display_data"
    }
   ],
   "source": [
    "# Отрисуем объекты внутри класса\n",
    "get_images_from_class(dataset, class_id='3b9ba5ab3fce43c2bca84ee29e77c203')"
   ]
  },
  {
   "cell_type": "markdown",
   "id": "a3780472-cf5c-4e8e-a642-8d35a0d187c4",
   "metadata": {},
   "source": [
    "### Как можно заметить, кластера состоят из фотографий одного человека и набора случайных фото. Просмотрев все кластера, я обнаружила, что случайные фото начинаются с какого-то индекса, то есть части человек-случайные фото идут последовательно, и можно легко отрезать случайные фото в отдельный класс.\n",
    "\n",
    "### Стоит сказать, что в нашем случае изначальных классов всего 25, а фотографий внутри - немного, поэтому быстрее всего было отсмотреть глазами и руками отрезать ненужные фото. В случае больших данных нужно либо переразмечать фотографии, либо искать возможные ошибки при компоновке кластеров, либо итеративно обучать эмбеддер по принципу:\n",
    "- обучили на грязных данных\n",
    "- посчитали попарные расстояния (даже в случае грязных данных очень похожие фото будут похожи, т.о. кластер лиц для каждого человека можно вычленить. Особенно когда мусор в датасете - это не лица, а совсем другой домен)\n",
    "- на основе трешхолдов уточнили данные внутри каждого класса (человек внутри одного класса будет по сути связной компонентой, где ребро - это расстояние, подошедшее по пороговому значению)\n",
    "- и так до получения нужного качества\n",
    "\n",
    "В текущем решении очистка датасета проводится в полуручном режиме, то есть в `params.py` лежит dict, где для каждого кластера указан индекс элемента для разрезания фотографий на две части - человека и мусор"
   ]
  },
  {
   "cell_type": "code",
   "execution_count": 12,
   "id": "5941fc04-0a11-40da-972b-f0d9262d03b9",
   "metadata": {},
   "outputs": [],
   "source": [
    "from dataset import prepare_broken_data\n",
    "from params import data_cleaning"
   ]
  },
  {
   "cell_type": "code",
   "execution_count": 20,
   "id": "2ded730f-b6a5-416c-be0e-5f78ba1aea30",
   "metadata": {},
   "outputs": [],
   "source": [
    "data = prepare_broken_data(data, data_cleaning)\n",
    "dataset = ImageDataset(image_dir, data)"
   ]
  },
  {
   "cell_type": "code",
   "execution_count": 21,
   "id": "8c64d50c-2657-454f-ac4d-b3df7dec1685",
   "metadata": {},
   "outputs": [
    {
     "name": "stdout",
     "output_type": "stream",
     "text": [
      "Количество кластеров: 26\n",
      "Среднее кол-во изображение на кластер: 58.5\n",
      "Минимальное кол-во изображение на кластер: 7\n",
      "Максимальное кол-во изображение на кластер: 964\n"
     ]
    }
   ],
   "source": [
    "print('Количество кластеров:', len(data.cluster_id.unique()))\n",
    "print('Среднее кол-во изображение на кластер:', data.value_counts(data['cluster_id']).mean())\n",
    "print('Минимальное кол-во изображение на кластер:', data.value_counts(data['cluster_id']).min())\n",
    "print('Максимальное кол-во изображение на кластер:', data.value_counts(data['cluster_id']).max())"
   ]
  },
  {
   "cell_type": "code",
   "execution_count": 22,
   "id": "0c38a385-727d-4eda-b240-766360056830",
   "metadata": {
    "collapsed": true,
    "jupyter": {
     "outputs_hidden": true
    }
   },
   "outputs": [
    {
     "name": "stderr",
     "output_type": "stream",
     "text": [
      "INFO:root:Image path 1: test-task/clusters/70d7af617866428ba9d49a77505b8de0.jpg\n",
      "INFO:root:Image path 2: test-task/clusters/075eb928960e46e0ae058f3e3e2efd4f.jpg\n"
     ]
    },
    {
     "data": {
      "application/vnd.jupyter.widget-view+json": {
       "model_id": "ec69aa7069b54a5cb80e4531ad571954",
       "version_major": 2,
       "version_minor": 0
      },
      "text/plain": [
       "HBox(children=(Image(value=b'\\xff\\xd8\\xff\\xe1\\x02\\xf6Exif\\x00\\x00II*\\x00\\x08\\x00\\x00\\x00\\r\\x00\\x00\\x01\\x04\\x00…"
      ]
     },
     "metadata": {},
     "output_type": "display_data"
    },
    {
     "name": "stderr",
     "output_type": "stream",
     "text": [
      "INFO:root:Image path 1: test-task/clusters/81f97e936ce84a5fa1ccabff3ad75725.jpg\n",
      "INFO:root:Image path 2: test-task/clusters/3cbe3279c96848aa8bf24cb54e9de861.jpg\n"
     ]
    },
    {
     "data": {
      "application/vnd.jupyter.widget-view+json": {
       "model_id": "db7c835bb67b44f68ac353aad22e51e6",
       "version_major": 2,
       "version_minor": 0
      },
      "text/plain": [
       "HBox(children=(Image(value=b'\\xff\\xd8\\xff\\xe1\\x02\\xf6Exif\\x00\\x00II*\\x00\\x08\\x00\\x00\\x00\\r\\x00\\x00\\x01\\x04\\x00…"
      ]
     },
     "metadata": {},
     "output_type": "display_data"
    },
    {
     "name": "stderr",
     "output_type": "stream",
     "text": [
      "INFO:root:Image path 1: test-task/clusters/376ba3f5dfc44bfa90a4d72df1d5000f.jpg\n",
      "INFO:root:Image path 2: test-task/clusters/c9ff2638af8f419c8f7b6fc17fb6a2b6.jpg\n"
     ]
    },
    {
     "data": {
      "application/vnd.jupyter.widget-view+json": {
       "model_id": "cbe40c11e01e4ed28d5f4847db5668ca",
       "version_major": 2,
       "version_minor": 0
      },
      "text/plain": [
       "HBox(children=(Image(value=b'\\xff\\xd8\\xff\\xe1\\x02\\xf6Exif\\x00\\x00II*\\x00\\x08\\x00\\x00\\x00\\r\\x00\\x00\\x01\\x04\\x00…"
      ]
     },
     "metadata": {},
     "output_type": "display_data"
    },
    {
     "name": "stderr",
     "output_type": "stream",
     "text": [
      "INFO:root:Image path 1: test-task/clusters/d02c296097e64ef1b74f63898a5bd83e.jpg\n",
      "INFO:root:Image path 2: test-task/clusters/9bb07b5afaa84c408b5e3d9e387a6ac5.jpg\n"
     ]
    },
    {
     "data": {
      "application/vnd.jupyter.widget-view+json": {
       "model_id": "38b15b8abc51413e98e3b23294831e64",
       "version_major": 2,
       "version_minor": 0
      },
      "text/plain": [
       "HBox(children=(Image(value=b'\\xff\\xd8\\xff\\xe1\\x02\\xf6Exif\\x00\\x00II*\\x00\\x08\\x00\\x00\\x00\\r\\x00\\x00\\x01\\x04\\x00…"
      ]
     },
     "metadata": {},
     "output_type": "display_data"
    },
    {
     "name": "stderr",
     "output_type": "stream",
     "text": [
      "INFO:root:Image path 1: test-task/clusters/3b61f0c71340403b9859f3e0ef10d6c6.jpg\n",
      "INFO:root:Image path 2: test-task/clusters/9e063b272da24ff0b7d0b80d17bd0f13.jpg\n"
     ]
    },
    {
     "data": {
      "application/vnd.jupyter.widget-view+json": {
       "model_id": "c44f9e154adb406a97bf46713c7717ff",
       "version_major": 2,
       "version_minor": 0
      },
      "text/plain": [
       "HBox(children=(Image(value=b'\\xff\\xd8\\xff\\xe1\\x02\\xf6Exif\\x00\\x00II*\\x00\\x08\\x00\\x00\\x00\\r\\x00\\x00\\x01\\x04\\x00…"
      ]
     },
     "metadata": {},
     "output_type": "display_data"
    },
    {
     "name": "stderr",
     "output_type": "stream",
     "text": [
      "INFO:root:Image path 1: test-task/clusters/982a7a2037f043d6927145fbb622925f.jpg\n",
      "INFO:root:Image path 2: test-task/clusters/b933d6f6ff6e46e19cf76c6e9ab7ce66.jpg\n"
     ]
    },
    {
     "data": {
      "application/vnd.jupyter.widget-view+json": {
       "model_id": "faf03b89ca244dee94051cd35b0d2989",
       "version_major": 2,
       "version_minor": 0
      },
      "text/plain": [
       "HBox(children=(Image(value=b'\\xff\\xd8\\xff\\xe0\\x00\\x10JFIF\\x00\\x01\\x01\\x01\\x00H\\x00H\\x00\\x00\\xff\\xe1\\x03\\x06Exi…"
      ]
     },
     "metadata": {},
     "output_type": "display_data"
    },
    {
     "name": "stderr",
     "output_type": "stream",
     "text": [
      "INFO:root:Image path 1: test-task/clusters/003e4f79084c425eabb579482388820a.jpg\n",
      "INFO:root:Image path 2: test-task/clusters/7decd84644b34cd3bf8c528f07f29d24.jpg\n"
     ]
    },
    {
     "data": {
      "application/vnd.jupyter.widget-view+json": {
       "model_id": "0e804be402a34121bc70cc6997daf0b2",
       "version_major": 2,
       "version_minor": 0
      },
      "text/plain": [
       "HBox(children=(Image(value=b'\\xff\\xd8\\xff\\xe1\\x02\\xf6Exif\\x00\\x00II*\\x00\\x08\\x00\\x00\\x00\\r\\x00\\x00\\x01\\x04\\x00…"
      ]
     },
     "metadata": {},
     "output_type": "display_data"
    },
    {
     "name": "stderr",
     "output_type": "stream",
     "text": [
      "INFO:root:Image path 1: test-task/clusters/829261fc36834528a7dcad9ac7d7308c.jpg\n",
      "INFO:root:Image path 2: test-task/clusters/52a3420de59f467282a54c81307df508.jpg\n"
     ]
    },
    {
     "data": {
      "application/vnd.jupyter.widget-view+json": {
       "model_id": "ddf43efcdd1b47e8bfaaff283ddb1da9",
       "version_major": 2,
       "version_minor": 0
      },
      "text/plain": [
       "HBox(children=(Image(value=b'\\xff\\xd8\\xff\\xe1\\x02\\xf6Exif\\x00\\x00II*\\x00\\x08\\x00\\x00\\x00\\r\\x00\\x00\\x01\\x04\\x00…"
      ]
     },
     "metadata": {},
     "output_type": "display_data"
    },
    {
     "name": "stderr",
     "output_type": "stream",
     "text": [
      "INFO:root:Image path 1: test-task/clusters/b2a5f3d1b96e43ffa1fa1a288f96cf48.jpg\n",
      "INFO:root:Image path 2: test-task/clusters/64e55aa559b64409af69321d2abf690f.jpg\n"
     ]
    },
    {
     "data": {
      "application/vnd.jupyter.widget-view+json": {
       "model_id": "9cd400bf4f964df5b8f0cefb067452f1",
       "version_major": 2,
       "version_minor": 0
      },
      "text/plain": [
       "HBox(children=(Image(value=b'\\xff\\xd8\\xff\\xe0\\x00\\x10JFIF\\x00\\x01\\x01\\x01\\x00H\\x00H\\x00\\x00\\xff\\xe1\\x03\\x06Exi…"
      ]
     },
     "metadata": {},
     "output_type": "display_data"
    },
    {
     "name": "stderr",
     "output_type": "stream",
     "text": [
      "INFO:root:Image path 1: test-task/clusters/286cb5e0486544b3a4d89e548a3b4fe8.jpg\n",
      "INFO:root:Image path 2: test-task/clusters/4c91310e5b56450082da2c5956ff1194.jpg\n"
     ]
    },
    {
     "data": {
      "application/vnd.jupyter.widget-view+json": {
       "model_id": "da197ee8484a41ab9173b4952917c996",
       "version_major": 2,
       "version_minor": 0
      },
      "text/plain": [
       "HBox(children=(Image(value=b'\\xff\\xd8\\xff\\xe1\\x02\\xf6Exif\\x00\\x00II*\\x00\\x08\\x00\\x00\\x00\\r\\x00\\x00\\x01\\x04\\x00…"
      ]
     },
     "metadata": {},
     "output_type": "display_data"
    },
    {
     "name": "stderr",
     "output_type": "stream",
     "text": [
      "INFO:root:Image path 1: test-task/clusters/70fea8704e1e4d84a4e3a46b03715992.jpg\n",
      "INFO:root:Image path 2: test-task/clusters/e59b32918a4440099d3de28efe3f6653.jpg\n"
     ]
    },
    {
     "data": {
      "application/vnd.jupyter.widget-view+json": {
       "model_id": "e5c1e6b8e6e343878adc256a2d8b33d9",
       "version_major": 2,
       "version_minor": 0
      },
      "text/plain": [
       "HBox(children=(Image(value=b'\\xff\\xd8\\xff\\xe1\\x02\\xf6Exif\\x00\\x00II*\\x00\\x08\\x00\\x00\\x00\\r\\x00\\x00\\x01\\x04\\x00…"
      ]
     },
     "metadata": {},
     "output_type": "display_data"
    },
    {
     "name": "stderr",
     "output_type": "stream",
     "text": [
      "INFO:root:Image path 1: test-task/clusters/a54d19b0c1024415abaeeff20c33bb3b.jpg\n",
      "INFO:root:Image path 2: test-task/clusters/ff0393ed8a134c4a9841e420a471c8cf.jpg\n"
     ]
    },
    {
     "data": {
      "application/vnd.jupyter.widget-view+json": {
       "model_id": "86e96f732ba249aba28cd2a083a6c35d",
       "version_major": 2,
       "version_minor": 0
      },
      "text/plain": [
       "HBox(children=(Image(value=b'\\xff\\xd8\\xff\\xe1\\x02\\xf6Exif\\x00\\x00II*\\x00\\x08\\x00\\x00\\x00\\r\\x00\\x00\\x01\\x04\\x00…"
      ]
     },
     "metadata": {},
     "output_type": "display_data"
    },
    {
     "name": "stderr",
     "output_type": "stream",
     "text": [
      "INFO:root:Image path 1: test-task/clusters/c531e1218e994a1e997341aca7b08606.jpg\n",
      "INFO:root:Image path 2: test-task/clusters/d3a69ebab01642479e2c8d7637ec44c3.jpg\n"
     ]
    },
    {
     "data": {
      "application/vnd.jupyter.widget-view+json": {
       "model_id": "204f3214cd424297a6df5e899fbeafd2",
       "version_major": 2,
       "version_minor": 0
      },
      "text/plain": [
       "HBox(children=(Image(value=b'\\xff\\xd8\\xff\\xe1\\x02\\xf6Exif\\x00\\x00II*\\x00\\x08\\x00\\x00\\x00\\r\\x00\\x00\\x01\\x04\\x00…"
      ]
     },
     "metadata": {},
     "output_type": "display_data"
    },
    {
     "name": "stderr",
     "output_type": "stream",
     "text": [
      "INFO:root:Image path 1: test-task/clusters/f3e834198da94afa989fb69a3080de39.jpg\n",
      "INFO:root:Image path 2: test-task/clusters/f0c0db12e56047528fc0b0b9d87b2f7a.jpg\n"
     ]
    },
    {
     "data": {
      "application/vnd.jupyter.widget-view+json": {
       "model_id": "5e667f78e8f04faeb8693d51383fd8fc",
       "version_major": 2,
       "version_minor": 0
      },
      "text/plain": [
       "HBox(children=(Image(value=b'\\xff\\xd8\\xff\\xe0\\x00\\x10JFIF\\x00\\x01\\x01\\x01\\x00H\\x00H\\x00\\x00\\xff\\xe1\\x03\\x06Exi…"
      ]
     },
     "metadata": {},
     "output_type": "display_data"
    },
    {
     "name": "stderr",
     "output_type": "stream",
     "text": [
      "INFO:root:Image path 1: test-task/clusters/dee3533c811c4b12aafbaa3656e086e1.jpg\n",
      "INFO:root:Image path 2: test-task/clusters/842dd7a8ede44178bb5e6a3f12f7161b.jpg\n"
     ]
    },
    {
     "data": {
      "application/vnd.jupyter.widget-view+json": {
       "model_id": "41d67650afe4415da6d77778fb426cad",
       "version_major": 2,
       "version_minor": 0
      },
      "text/plain": [
       "HBox(children=(Image(value=b'\\xff\\xd8\\xff\\xe1\\x02\\xf6Exif\\x00\\x00II*\\x00\\x08\\x00\\x00\\x00\\r\\x00\\x00\\x01\\x04\\x00…"
      ]
     },
     "metadata": {},
     "output_type": "display_data"
    },
    {
     "name": "stderr",
     "output_type": "stream",
     "text": [
      "INFO:root:Image path 1: test-task/clusters/e84acc7ccfd047aaa4104224a44f61eb.jpg\n",
      "INFO:root:Image path 2: test-task/clusters/5e4fdf7d60b042d8ae5ab2487e71797d.jpg\n"
     ]
    },
    {
     "data": {
      "application/vnd.jupyter.widget-view+json": {
       "model_id": "daa2a60b88f146b6baf135aec9ec8e50",
       "version_major": 2,
       "version_minor": 0
      },
      "text/plain": [
       "HBox(children=(Image(value=b'\\xff\\xd8\\xff\\xe1\\x02\\xf6Exif\\x00\\x00II*\\x00\\x08\\x00\\x00\\x00\\r\\x00\\x00\\x01\\x04\\x00…"
      ]
     },
     "metadata": {},
     "output_type": "display_data"
    },
    {
     "name": "stderr",
     "output_type": "stream",
     "text": [
      "INFO:root:Image path 1: test-task/clusters/5f1aa74c31bb4372a2e698509e430123.jpg\n",
      "INFO:root:Image path 2: test-task/clusters/bfe11bcdde2245469a8c3282d351036b.jpg\n"
     ]
    },
    {
     "data": {
      "application/vnd.jupyter.widget-view+json": {
       "model_id": "927bde34003244ab9104978c329e3bd6",
       "version_major": 2,
       "version_minor": 0
      },
      "text/plain": [
       "HBox(children=(Image(value=b'\\xff\\xd8\\xff\\xe1\\x02\\xf6Exif\\x00\\x00II*\\x00\\x08\\x00\\x00\\x00\\r\\x00\\x00\\x01\\x04\\x00…"
      ]
     },
     "metadata": {},
     "output_type": "display_data"
    },
    {
     "name": "stderr",
     "output_type": "stream",
     "text": [
      "INFO:root:Image path 1: test-task/clusters/32a7ff5a17d64a4cad90f03e173222f7.jpg\n",
      "INFO:root:Image path 2: test-task/clusters/3ff353c05bac49cb9b9a5f3514b78ff1.jpg\n"
     ]
    },
    {
     "data": {
      "application/vnd.jupyter.widget-view+json": {
       "model_id": "0a344230031f4f908244f1d76c928129",
       "version_major": 2,
       "version_minor": 0
      },
      "text/plain": [
       "HBox(children=(Image(value=b'\\xff\\xd8\\xff\\xe1\\x02\\xf6Exif\\x00\\x00II*\\x00\\x08\\x00\\x00\\x00\\r\\x00\\x00\\x01\\x04\\x00…"
      ]
     },
     "metadata": {},
     "output_type": "display_data"
    }
   ],
   "source": [
    "# Отрисуем объекты внутри класса\n",
    "get_images_from_class(dataset, class_id='f75f7082d62a44e7bfd373532877c9a6')"
   ]
  },
  {
   "cell_type": "markdown",
   "id": "097e0508-275b-4911-a2a6-8b8f54a1b850",
   "metadata": {},
   "source": [
    "Теперь внутри 25 кластеров - изображения людей, а в 26ом - другие фото, класс 'other'. Оставлять ли мусорный класс или нет - зависит от задачи. В данной задаче конечно домен людей очень сильно отличается от класса 'other', однако бывают сложные случаи внешних фото, которые очень похожи людей, иммитируют человека, являются фотографией фотографии, фотообоъями и тд. Я оставила класс, при визуализации обучения видно, насколько сеть далеко его двигает."
   ]
  },
  {
   "cell_type": "markdown",
   "id": "75211fb2-4c52-48f7-b86e-a468fcef83c4",
   "metadata": {},
   "source": [
    "## Обучение\n",
    "\n",
    "Обучение реализовано в `tools/train.py` и включает в себя предобработку датасета. Для валидного датасета необходимо убрать строку с соответствующим преобразованием.\n",
    "\n",
    "Параметры обучения задаются в `params.py`\n",
    "\n",
    "P.S. У меня совсем небольшие мощности для обучения, поэтому `dataloader_num_workers = 1`, можно поменять при необходимости"
   ]
  },
  {
   "cell_type": "code",
   "execution_count": 26,
   "id": "4186d99c-80be-47ee-95b7-3ff27535fa08",
   "metadata": {
    "scrolled": true
   },
   "outputs": [],
   "source": [
    "from tools import train"
   ]
  },
  {
   "cell_type": "code",
   "execution_count": 27,
   "id": "1a88f7eb-1b40-4cf7-a35b-edc0d9160a4d",
   "metadata": {
    "collapsed": true,
    "jupyter": {
     "outputs_hidden": true
    },
    "scrolled": true
   },
   "outputs": [
    {
     "name": "stderr",
     "output_type": "stream",
     "text": [
      "INFO:root:Dataset info\n",
      "INFO:root:Number of classes: 26\n",
      "INFO:root:Size of train data: (1064, 3)\n",
      "INFO:root:Size of test data: (457, 3)\n",
      "INFO:root:Dataset info\n",
      "INFO:root:Number of classes: 26\n",
      "INFO:root:Size of train data: (912, 3)\n",
      "INFO:root:Size of test data: (609, 3)\n"
     ]
    },
    {
     "ename": "AttributeError",
     "evalue": "'NoneType' object has no attribute 'label'",
     "output_type": "error",
     "traceback": [
      "\u001b[0;31m---------------------------------------------------------------------------\u001b[0m",
      "\u001b[0;31mAttributeError\u001b[0m                            Traceback (most recent call last)",
      "Cell \u001b[0;32mIn[27], line 1\u001b[0m\n\u001b[0;32m----> 1\u001b[0m \u001b[43mtrain\u001b[49m\u001b[43m(\u001b[49m\u001b[43m)\u001b[49m\n",
      "File \u001b[0;32m~/Documents/interview/InteractiveStandard_testcase/tools/train.py:33\u001b[0m, in \u001b[0;36mtrain\u001b[0;34m()\u001b[0m\n\u001b[1;32m     31\u001b[0m test_df \u001b[38;5;241m=\u001b[39m test_df\u001b[38;5;241m.\u001b[39mto_csv(\u001b[38;5;124m'\u001b[39m\u001b[38;5;124mtest_df.csv\u001b[39m\u001b[38;5;124m'\u001b[39m)\n\u001b[1;32m     32\u001b[0m val_df \u001b[38;5;241m=\u001b[39m val_df\u001b[38;5;241m.\u001b[39mto_csv(\u001b[38;5;124m'\u001b[39m\u001b[38;5;124mval_df.csv\u001b[39m\u001b[38;5;124m'\u001b[39m)\n\u001b[0;32m---> 33\u001b[0m num_classes \u001b[38;5;241m=\u001b[39m \u001b[38;5;28mlen\u001b[39m(\u001b[43mtrain_df\u001b[49m\u001b[38;5;241;43m.\u001b[39;49m\u001b[43mlabel\u001b[49m\u001b[38;5;241m.\u001b[39munique())\n\u001b[1;32m     35\u001b[0m train_transforms \u001b[38;5;241m=\u001b[39m get_train_transforms(image_size)\n\u001b[1;32m     36\u001b[0m test_transforms \u001b[38;5;241m=\u001b[39m get_valid_transforms(image_size)\n",
      "\u001b[0;31mAttributeError\u001b[0m: 'NoneType' object has no attribute 'label'"
     ]
    }
   ],
   "source": [
    "train()"
   ]
  },
  {
   "cell_type": "markdown",
   "id": "877f1f89-35e8-486f-8537-e58e4b3841b3",
   "metadata": {},
   "source": [
    "Обученные веса модели и сохраненки для лоссов и оптимизаторов можно найти в `saved_models`, логи и данные для тензорборда в соответствующих папках. Я выложила свои веса, в `saved_models` и пути к ним прописала в `params.py`. Соответственно оттуда загружаются веса для инференса\n",
    "\n",
    "При визуализации обучения видно, что модель отлично разбила выборку на нужные нам 26 классов"
   ]
  },
  {
   "cell_type": "markdown",
   "id": "b80b4de0-b973-44e3-ad43-1e9fd303ad78",
   "metadata": {},
   "source": [
    "## Оценим модель\n",
    "\n",
    "Во время обучения датасет разбивался на трейн и тест части, где трейн и тест как минимум по 1 примеру из каждого класса. Во время оценки построим индекс knn и оценим качество кластеризации. "
   ]
  },
  {
   "cell_type": "code",
   "execution_count": 13,
   "id": "48cc2275-2939-4436-8ebb-f906df9712fc",
   "metadata": {},
   "outputs": [],
   "source": [
    "import os\n",
    "import pandas as pd\n",
    "\n",
    "from sklearn.metrics import homogeneity_completeness_v_measure\n",
    "\n",
    "from services import Recognizer\n",
    "\n",
    "from params import image_dir, csv_dir, trunk_path, embedder_path"
   ]
  },
  {
   "cell_type": "code",
   "execution_count": 2,
   "id": "201dfe06-957f-4556-a65e-f594e32991ac",
   "metadata": {},
   "outputs": [
    {
     "name": "stderr",
     "output_type": "stream",
     "text": [
      "INFO:root:Dataset has 26 classes\n"
     ]
    }
   ],
   "source": [
    "csv_path = 'train_df.csv'\n",
    "rec = Recognizer(image_dir, csv_path, trunk_path, embedder_path)"
   ]
  },
  {
   "cell_type": "code",
   "execution_count": 3,
   "id": "c00a347b-487a-4f86-b5ec-779f9efc8120",
   "metadata": {},
   "outputs": [],
   "source": [
    "# set(rec.dataset.labels)"
   ]
  },
  {
   "cell_type": "code",
   "execution_count": 4,
   "id": "72ddd77b-397d-43fd-83c2-d49d579eb044",
   "metadata": {},
   "outputs": [],
   "source": [
    "# Построим knn индекс, а также сохраним его в файл\n",
    "\n",
    "# rec.build_and_save_knn_by_data(\"knn\")"
   ]
  },
  {
   "cell_type": "code",
   "execution_count": 3,
   "id": "521e24a5-c7db-4920-b609-a43c8f90c286",
   "metadata": {},
   "outputs": [
    {
     "name": "stderr",
     "output_type": "stream",
     "text": [
      "INFO:root:Knn successully loaded\n"
     ]
    }
   ],
   "source": [
    "# Если у нас уже есть готовый knn индекс, то заберем его из файла. \n",
    "# У меня построение очень долгое, поэтому загружу :)\n",
    "\n",
    "rec.load_knn(\"knn\")"
   ]
  },
  {
   "cell_type": "code",
   "execution_count": 6,
   "id": "380c4779-188d-4755-b7e8-accf77556e2b",
   "metadata": {},
   "outputs": [
    {
     "name": "stderr",
     "output_type": "stream",
     "text": [
      "INFO:PML:running k-nn with k=1\n",
      "INFO:PML:embedding dimensionality is 256\n"
     ]
    },
    {
     "name": "stdout",
     "output_type": "stream",
     "text": [
      "Group truth: 13 \n",
      "Predicted: 13\n"
     ]
    },
    {
     "name": "stderr",
     "output_type": "stream",
     "text": [
      "/Users/julia/venvs/python3.9/lib/python3.9/site-packages/faiss/contrib/torch_utils.py:51: UserWarning: TypedStorage is deprecated. It will be removed in the future and UntypedStorage will be the only storage class. This should only matter to you if you are using storages directly.  To access UntypedStorage directly, use tensor.untyped_storage() instead of tensor.storage()\n",
      "  x.storage().data_ptr() + x.storage_offset() * 4)\n"
     ]
    }
   ],
   "source": [
    "# Посмотрим, как работает кластеризация на одной картинке\n",
    "# Можем подать путь до файла или готовый тензор, если в наличии)\n",
    "test_data = pd.read_csv('test_df.csv')\n",
    "idx = 0\n",
    "file_name = os.path.join(image_dir, test_data.file_name[idx])\n",
    "label = test_data.label[idx]\n",
    "\n",
    "label_pred, cluster_id = rec.get_label_for_image(file_name)\n",
    "\n",
    "print(f'Group truth: {label} \\nPredicted: {label_pred}')"
   ]
  },
  {
   "cell_type": "markdown",
   "id": "e449ee8e-1445-457b-b468-e1c7b20eec94",
   "metadata": {},
   "source": [
    "#### Прогоним валидационную выборку\n",
    "\n",
    "Для ускорения процесса используем батчевание"
   ]
  },
  {
   "cell_type": "code",
   "execution_count": 4,
   "id": "11f37faa-d8ad-40c4-8531-a9254a844b9e",
   "metadata": {},
   "outputs": [],
   "source": [
    "import numpy as np"
   ]
  },
  {
   "cell_type": "code",
   "execution_count": 5,
   "id": "e9b26ab0-e7c8-4fa6-b6e8-2c2effacad66",
   "metadata": {},
   "outputs": [],
   "source": [
    "val_data = pd.read_csv('val_df.csv')"
   ]
  },
  {
   "cell_type": "code",
   "execution_count": 6,
   "id": "b25718cb-b65f-49ee-892e-2e8641104700",
   "metadata": {
    "scrolled": true
   },
   "outputs": [
    {
     "name": "stderr",
     "output_type": "stream",
     "text": [
      "INFO:PML:running k-nn with k=1\n",
      "INFO:PML:embedding dimensionality is 256\n",
      "/Users/julia/venvs/python3.9/lib/python3.9/site-packages/faiss/contrib/torch_utils.py:51: UserWarning: TypedStorage is deprecated. It will be removed in the future and UntypedStorage will be the only storage class. This should only matter to you if you are using storages directly.  To access UntypedStorage directly, use tensor.untyped_storage() instead of tensor.storage()\n",
      "  x.storage().data_ptr() + x.storage_offset() * 4)\n",
      "INFO:PML:running k-nn with k=1\n",
      "INFO:PML:embedding dimensionality is 256\n",
      "INFO:PML:running k-nn with k=1\n",
      "INFO:PML:embedding dimensionality is 256\n",
      "INFO:PML:running k-nn with k=1\n",
      "INFO:PML:embedding dimensionality is 256\n",
      "INFO:PML:running k-nn with k=1\n",
      "INFO:PML:embedding dimensionality is 256\n",
      "INFO:PML:running k-nn with k=1\n",
      "INFO:PML:embedding dimensionality is 256\n",
      "INFO:PML:running k-nn with k=1\n",
      "INFO:PML:embedding dimensionality is 256\n",
      "INFO:PML:running k-nn with k=1\n",
      "INFO:PML:embedding dimensionality is 256\n",
      "INFO:PML:running k-nn with k=1\n",
      "INFO:PML:embedding dimensionality is 256\n",
      "INFO:PML:running k-nn with k=1\n",
      "INFO:PML:embedding dimensionality is 256\n",
      "INFO:PML:running k-nn with k=1\n",
      "INFO:PML:embedding dimensionality is 256\n",
      "INFO:PML:running k-nn with k=1\n",
      "INFO:PML:embedding dimensionality is 256\n",
      "INFO:PML:running k-nn with k=1\n",
      "INFO:PML:embedding dimensionality is 256\n",
      "INFO:PML:running k-nn with k=1\n",
      "INFO:PML:embedding dimensionality is 256\n",
      "INFO:PML:running k-nn with k=1\n",
      "INFO:PML:embedding dimensionality is 256\n",
      "INFO:PML:running k-nn with k=1\n",
      "INFO:PML:embedding dimensionality is 256\n",
      "INFO:PML:running k-nn with k=1\n",
      "INFO:PML:embedding dimensionality is 256\n",
      "INFO:PML:running k-nn with k=1\n",
      "INFO:PML:embedding dimensionality is 256\n",
      "INFO:PML:running k-nn with k=1\n",
      "INFO:PML:embedding dimensionality is 256\n",
      "INFO:PML:running k-nn with k=1\n",
      "INFO:PML:embedding dimensionality is 256\n",
      "INFO:PML:running k-nn with k=1\n",
      "INFO:PML:embedding dimensionality is 256\n",
      "INFO:PML:running k-nn with k=1\n",
      "INFO:PML:embedding dimensionality is 256\n",
      "INFO:PML:running k-nn with k=1\n",
      "INFO:PML:embedding dimensionality is 256\n",
      "INFO:PML:running k-nn with k=1\n",
      "INFO:PML:embedding dimensionality is 256\n",
      "INFO:PML:running k-nn with k=1\n",
      "INFO:PML:embedding dimensionality is 256\n",
      "INFO:PML:running k-nn with k=1\n",
      "INFO:PML:embedding dimensionality is 256\n",
      "INFO:PML:running k-nn with k=1\n",
      "INFO:PML:embedding dimensionality is 256\n",
      "INFO:PML:running k-nn with k=1\n",
      "INFO:PML:embedding dimensionality is 256\n",
      "INFO:PML:running k-nn with k=1\n",
      "INFO:PML:embedding dimensionality is 256\n",
      "INFO:PML:running k-nn with k=1\n",
      "INFO:PML:embedding dimensionality is 256\n",
      "INFO:PML:running k-nn with k=1\n",
      "INFO:PML:embedding dimensionality is 256\n",
      "INFO:PML:running k-nn with k=1\n",
      "INFO:PML:embedding dimensionality is 256\n",
      "INFO:PML:running k-nn with k=1\n",
      "INFO:PML:embedding dimensionality is 256\n",
      "INFO:PML:running k-nn with k=1\n",
      "INFO:PML:embedding dimensionality is 256\n",
      "INFO:PML:running k-nn with k=1\n",
      "INFO:PML:embedding dimensionality is 256\n",
      "INFO:PML:running k-nn with k=1\n",
      "INFO:PML:embedding dimensionality is 256\n",
      "INFO:PML:running k-nn with k=1\n",
      "INFO:PML:embedding dimensionality is 256\n",
      "INFO:PML:running k-nn with k=1\n",
      "INFO:PML:embedding dimensionality is 256\n",
      "INFO:PML:running k-nn with k=1\n",
      "INFO:PML:embedding dimensionality is 256\n",
      "INFO:PML:running k-nn with k=1\n",
      "INFO:PML:embedding dimensionality is 256\n",
      "INFO:PML:running k-nn with k=1\n",
      "INFO:PML:embedding dimensionality is 256\n",
      "INFO:PML:running k-nn with k=1\n",
      "INFO:PML:embedding dimensionality is 256\n",
      "INFO:PML:running k-nn with k=1\n",
      "INFO:PML:embedding dimensionality is 256\n",
      "INFO:PML:running k-nn with k=1\n",
      "INFO:PML:embedding dimensionality is 256\n",
      "INFO:PML:running k-nn with k=1\n",
      "INFO:PML:embedding dimensionality is 256\n",
      "INFO:PML:running k-nn with k=1\n",
      "INFO:PML:embedding dimensionality is 256\n",
      "INFO:PML:running k-nn with k=1\n",
      "INFO:PML:embedding dimensionality is 256\n",
      "INFO:PML:running k-nn with k=1\n",
      "INFO:PML:embedding dimensionality is 256\n",
      "INFO:PML:running k-nn with k=1\n",
      "INFO:PML:embedding dimensionality is 256\n",
      "INFO:PML:running k-nn with k=1\n",
      "INFO:PML:embedding dimensionality is 256\n",
      "INFO:PML:running k-nn with k=1\n",
      "INFO:PML:embedding dimensionality is 256\n",
      "INFO:PML:running k-nn with k=1\n",
      "INFO:PML:embedding dimensionality is 256\n",
      "INFO:PML:running k-nn with k=1\n",
      "INFO:PML:embedding dimensionality is 256\n",
      "INFO:PML:running k-nn with k=1\n",
      "INFO:PML:embedding dimensionality is 256\n",
      "INFO:PML:running k-nn with k=1\n",
      "INFO:PML:embedding dimensionality is 256\n",
      "INFO:PML:running k-nn with k=1\n",
      "INFO:PML:embedding dimensionality is 256\n",
      "INFO:PML:running k-nn with k=1\n",
      "INFO:PML:embedding dimensionality is 256\n",
      "INFO:PML:running k-nn with k=1\n",
      "INFO:PML:embedding dimensionality is 256\n",
      "INFO:PML:running k-nn with k=1\n",
      "INFO:PML:embedding dimensionality is 256\n",
      "INFO:PML:running k-nn with k=1\n",
      "INFO:PML:embedding dimensionality is 256\n",
      "INFO:PML:running k-nn with k=1\n",
      "INFO:PML:embedding dimensionality is 256\n",
      "INFO:PML:running k-nn with k=1\n",
      "INFO:PML:embedding dimensionality is 256\n",
      "INFO:PML:running k-nn with k=1\n",
      "INFO:PML:embedding dimensionality is 256\n",
      "INFO:PML:running k-nn with k=1\n",
      "INFO:PML:embedding dimensionality is 256\n",
      "INFO:PML:running k-nn with k=1\n",
      "INFO:PML:embedding dimensionality is 256\n",
      "INFO:PML:running k-nn with k=1\n",
      "INFO:PML:embedding dimensionality is 256\n",
      "INFO:PML:running k-nn with k=1\n",
      "INFO:PML:embedding dimensionality is 256\n",
      "INFO:PML:running k-nn with k=1\n",
      "INFO:PML:embedding dimensionality is 256\n",
      "INFO:PML:running k-nn with k=1\n",
      "INFO:PML:embedding dimensionality is 256\n",
      "INFO:PML:running k-nn with k=1\n",
      "INFO:PML:embedding dimensionality is 256\n",
      "INFO:PML:running k-nn with k=1\n",
      "INFO:PML:embedding dimensionality is 256\n",
      "INFO:PML:running k-nn with k=1\n",
      "INFO:PML:embedding dimensionality is 256\n",
      "INFO:PML:running k-nn with k=1\n",
      "INFO:PML:embedding dimensionality is 256\n",
      "INFO:PML:running k-nn with k=1\n",
      "INFO:PML:embedding dimensionality is 256\n",
      "INFO:PML:running k-nn with k=1\n",
      "INFO:PML:embedding dimensionality is 256\n",
      "INFO:PML:running k-nn with k=1\n",
      "INFO:PML:embedding dimensionality is 256\n",
      "INFO:PML:running k-nn with k=1\n",
      "INFO:PML:embedding dimensionality is 256\n",
      "INFO:PML:running k-nn with k=1\n",
      "INFO:PML:embedding dimensionality is 256\n",
      "INFO:PML:running k-nn with k=1\n",
      "INFO:PML:embedding dimensionality is 256\n",
      "INFO:PML:running k-nn with k=1\n",
      "INFO:PML:embedding dimensionality is 256\n",
      "INFO:PML:running k-nn with k=1\n",
      "INFO:PML:embedding dimensionality is 256\n",
      "INFO:PML:running k-nn with k=1\n",
      "INFO:PML:embedding dimensionality is 256\n",
      "INFO:PML:running k-nn with k=1\n",
      "INFO:PML:embedding dimensionality is 256\n",
      "INFO:PML:running k-nn with k=1\n",
      "INFO:PML:embedding dimensionality is 256\n",
      "INFO:PML:running k-nn with k=1\n",
      "INFO:PML:embedding dimensionality is 256\n",
      "INFO:PML:running k-nn with k=1\n",
      "INFO:PML:embedding dimensionality is 256\n",
      "INFO:PML:running k-nn with k=1\n",
      "INFO:PML:embedding dimensionality is 256\n",
      "INFO:PML:running k-nn with k=1\n",
      "INFO:PML:embedding dimensionality is 256\n",
      "INFO:PML:running k-nn with k=1\n",
      "INFO:PML:embedding dimensionality is 256\n",
      "INFO:PML:running k-nn with k=1\n",
      "INFO:PML:embedding dimensionality is 256\n",
      "INFO:PML:running k-nn with k=1\n",
      "INFO:PML:embedding dimensionality is 256\n",
      "INFO:PML:running k-nn with k=1\n",
      "INFO:PML:embedding dimensionality is 256\n",
      "INFO:PML:running k-nn with k=1\n",
      "INFO:PML:embedding dimensionality is 256\n",
      "INFO:PML:running k-nn with k=1\n",
      "INFO:PML:embedding dimensionality is 256\n",
      "INFO:PML:running k-nn with k=1\n",
      "INFO:PML:embedding dimensionality is 256\n",
      "INFO:PML:running k-nn with k=1\n",
      "INFO:PML:embedding dimensionality is 256\n",
      "INFO:PML:running k-nn with k=1\n",
      "INFO:PML:embedding dimensionality is 256\n",
      "INFO:PML:running k-nn with k=1\n",
      "INFO:PML:embedding dimensionality is 256\n",
      "INFO:PML:running k-nn with k=1\n",
      "INFO:PML:embedding dimensionality is 256\n",
      "INFO:PML:running k-nn with k=1\n",
      "INFO:PML:embedding dimensionality is 256\n",
      "INFO:PML:running k-nn with k=1\n",
      "INFO:PML:embedding dimensionality is 256\n",
      "INFO:PML:running k-nn with k=1\n",
      "INFO:PML:embedding dimensionality is 256\n",
      "INFO:PML:running k-nn with k=1\n",
      "INFO:PML:embedding dimensionality is 256\n",
      "INFO:PML:running k-nn with k=1\n",
      "INFO:PML:embedding dimensionality is 256\n",
      "INFO:PML:running k-nn with k=1\n",
      "INFO:PML:embedding dimensionality is 256\n",
      "INFO:PML:running k-nn with k=1\n",
      "INFO:PML:embedding dimensionality is 256\n",
      "INFO:PML:running k-nn with k=1\n",
      "INFO:PML:embedding dimensionality is 256\n",
      "INFO:PML:running k-nn with k=1\n",
      "INFO:PML:embedding dimensionality is 256\n",
      "INFO:PML:running k-nn with k=1\n",
      "INFO:PML:embedding dimensionality is 256\n",
      "INFO:PML:running k-nn with k=1\n",
      "INFO:PML:embedding dimensionality is 256\n",
      "INFO:PML:running k-nn with k=1\n",
      "INFO:PML:embedding dimensionality is 256\n",
      "INFO:PML:running k-nn with k=1\n",
      "INFO:PML:embedding dimensionality is 256\n",
      "INFO:PML:running k-nn with k=1\n",
      "INFO:PML:embedding dimensionality is 256\n",
      "INFO:PML:running k-nn with k=1\n",
      "INFO:PML:embedding dimensionality is 256\n",
      "INFO:PML:running k-nn with k=1\n",
      "INFO:PML:embedding dimensionality is 256\n",
      "INFO:PML:running k-nn with k=1\n",
      "INFO:PML:embedding dimensionality is 256\n",
      "INFO:PML:running k-nn with k=1\n",
      "INFO:PML:embedding dimensionality is 256\n",
      "INFO:PML:running k-nn with k=1\n",
      "INFO:PML:embedding dimensionality is 256\n",
      "INFO:PML:running k-nn with k=1\n",
      "INFO:PML:embedding dimensionality is 256\n",
      "INFO:PML:running k-nn with k=1\n",
      "INFO:PML:embedding dimensionality is 256\n",
      "INFO:PML:running k-nn with k=1\n",
      "INFO:PML:embedding dimensionality is 256\n",
      "INFO:PML:running k-nn with k=1\n",
      "INFO:PML:embedding dimensionality is 256\n",
      "INFO:PML:running k-nn with k=1\n",
      "INFO:PML:embedding dimensionality is 256\n",
      "INFO:PML:running k-nn with k=1\n",
      "INFO:PML:embedding dimensionality is 256\n",
      "INFO:PML:running k-nn with k=1\n",
      "INFO:PML:embedding dimensionality is 256\n",
      "INFO:PML:running k-nn with k=1\n",
      "INFO:PML:embedding dimensionality is 256\n",
      "INFO:PML:running k-nn with k=1\n",
      "INFO:PML:embedding dimensionality is 256\n",
      "INFO:PML:running k-nn with k=1\n",
      "INFO:PML:embedding dimensionality is 256\n",
      "INFO:PML:running k-nn with k=1\n",
      "INFO:PML:embedding dimensionality is 256\n",
      "INFO:PML:running k-nn with k=1\n",
      "INFO:PML:embedding dimensionality is 256\n",
      "INFO:PML:running k-nn with k=1\n",
      "INFO:PML:embedding dimensionality is 256\n",
      "INFO:PML:running k-nn with k=1\n",
      "INFO:PML:embedding dimensionality is 256\n",
      "INFO:PML:running k-nn with k=1\n",
      "INFO:PML:embedding dimensionality is 256\n",
      "INFO:PML:running k-nn with k=1\n",
      "INFO:PML:embedding dimensionality is 256\n",
      "INFO:PML:running k-nn with k=1\n",
      "INFO:PML:embedding dimensionality is 256\n",
      "INFO:PML:running k-nn with k=1\n",
      "INFO:PML:embedding dimensionality is 256\n",
      "INFO:PML:running k-nn with k=1\n",
      "INFO:PML:embedding dimensionality is 256\n",
      "INFO:PML:running k-nn with k=1\n",
      "INFO:PML:embedding dimensionality is 256\n",
      "INFO:PML:running k-nn with k=1\n",
      "INFO:PML:embedding dimensionality is 256\n",
      "INFO:PML:running k-nn with k=1\n",
      "INFO:PML:embedding dimensionality is 256\n",
      "INFO:PML:running k-nn with k=1\n",
      "INFO:PML:embedding dimensionality is 256\n",
      "INFO:PML:running k-nn with k=1\n",
      "INFO:PML:embedding dimensionality is 256\n",
      "INFO:PML:running k-nn with k=1\n",
      "INFO:PML:embedding dimensionality is 256\n",
      "INFO:PML:running k-nn with k=1\n",
      "INFO:PML:embedding dimensionality is 256\n",
      "INFO:PML:running k-nn with k=1\n",
      "INFO:PML:embedding dimensionality is 256\n",
      "INFO:PML:running k-nn with k=1\n",
      "INFO:PML:embedding dimensionality is 256\n",
      "INFO:PML:running k-nn with k=1\n",
      "INFO:PML:embedding dimensionality is 256\n",
      "INFO:PML:running k-nn with k=1\n",
      "INFO:PML:embedding dimensionality is 256\n",
      "INFO:PML:running k-nn with k=1\n",
      "INFO:PML:embedding dimensionality is 256\n",
      "INFO:PML:running k-nn with k=1\n",
      "INFO:PML:embedding dimensionality is 256\n",
      "INFO:PML:running k-nn with k=1\n",
      "INFO:PML:embedding dimensionality is 256\n",
      "INFO:PML:running k-nn with k=1\n",
      "INFO:PML:embedding dimensionality is 256\n",
      "INFO:PML:running k-nn with k=1\n",
      "INFO:PML:embedding dimensionality is 256\n",
      "INFO:PML:running k-nn with k=1\n",
      "INFO:PML:embedding dimensionality is 256\n",
      "INFO:PML:running k-nn with k=1\n",
      "INFO:PML:embedding dimensionality is 256\n",
      "INFO:PML:running k-nn with k=1\n",
      "INFO:PML:embedding dimensionality is 256\n",
      "INFO:PML:running k-nn with k=1\n",
      "INFO:PML:embedding dimensionality is 256\n",
      "INFO:PML:running k-nn with k=1\n",
      "INFO:PML:embedding dimensionality is 256\n",
      "INFO:PML:running k-nn with k=1\n",
      "INFO:PML:embedding dimensionality is 256\n",
      "INFO:PML:running k-nn with k=1\n",
      "INFO:PML:embedding dimensionality is 256\n",
      "INFO:PML:running k-nn with k=1\n",
      "INFO:PML:embedding dimensionality is 256\n",
      "INFO:PML:running k-nn with k=1\n",
      "INFO:PML:embedding dimensionality is 256\n",
      "INFO:PML:running k-nn with k=1\n",
      "INFO:PML:embedding dimensionality is 256\n",
      "INFO:PML:running k-nn with k=1\n",
      "INFO:PML:embedding dimensionality is 256\n",
      "INFO:PML:running k-nn with k=1\n",
      "INFO:PML:embedding dimensionality is 256\n",
      "INFO:PML:running k-nn with k=1\n",
      "INFO:PML:embedding dimensionality is 256\n",
      "INFO:PML:running k-nn with k=1\n",
      "INFO:PML:embedding dimensionality is 256\n",
      "INFO:PML:running k-nn with k=1\n",
      "INFO:PML:embedding dimensionality is 256\n",
      "INFO:PML:running k-nn with k=1\n",
      "INFO:PML:embedding dimensionality is 256\n",
      "INFO:PML:running k-nn with k=1\n",
      "INFO:PML:embedding dimensionality is 256\n",
      "INFO:PML:running k-nn with k=1\n",
      "INFO:PML:embedding dimensionality is 256\n",
      "INFO:PML:running k-nn with k=1\n",
      "INFO:PML:embedding dimensionality is 256\n",
      "INFO:PML:running k-nn with k=1\n",
      "INFO:PML:embedding dimensionality is 256\n",
      "INFO:PML:running k-nn with k=1\n",
      "INFO:PML:embedding dimensionality is 256\n",
      "INFO:PML:running k-nn with k=1\n",
      "INFO:PML:embedding dimensionality is 256\n",
      "INFO:PML:running k-nn with k=1\n",
      "INFO:PML:embedding dimensionality is 256\n",
      "INFO:PML:running k-nn with k=1\n",
      "INFO:PML:embedding dimensionality is 256\n",
      "INFO:PML:running k-nn with k=1\n",
      "INFO:PML:embedding dimensionality is 256\n",
      "INFO:PML:running k-nn with k=1\n",
      "INFO:PML:embedding dimensionality is 256\n",
      "INFO:PML:running k-nn with k=1\n",
      "INFO:PML:embedding dimensionality is 256\n",
      "INFO:PML:running k-nn with k=1\n",
      "INFO:PML:embedding dimensionality is 256\n",
      "INFO:PML:running k-nn with k=1\n",
      "INFO:PML:embedding dimensionality is 256\n",
      "INFO:PML:running k-nn with k=1\n",
      "INFO:PML:embedding dimensionality is 256\n",
      "INFO:PML:running k-nn with k=1\n",
      "INFO:PML:embedding dimensionality is 256\n",
      "INFO:PML:running k-nn with k=1\n",
      "INFO:PML:embedding dimensionality is 256\n",
      "INFO:PML:running k-nn with k=1\n",
      "INFO:PML:embedding dimensionality is 256\n",
      "INFO:PML:running k-nn with k=1\n",
      "INFO:PML:embedding dimensionality is 256\n",
      "INFO:PML:running k-nn with k=1\n",
      "INFO:PML:embedding dimensionality is 256\n",
      "INFO:PML:running k-nn with k=1\n",
      "INFO:PML:embedding dimensionality is 256\n",
      "INFO:PML:running k-nn with k=1\n",
      "INFO:PML:embedding dimensionality is 256\n",
      "INFO:PML:running k-nn with k=1\n",
      "INFO:PML:embedding dimensionality is 256\n",
      "INFO:PML:running k-nn with k=1\n",
      "INFO:PML:embedding dimensionality is 256\n",
      "INFO:PML:running k-nn with k=1\n",
      "INFO:PML:embedding dimensionality is 256\n",
      "INFO:PML:running k-nn with k=1\n",
      "INFO:PML:embedding dimensionality is 256\n",
      "INFO:PML:running k-nn with k=1\n",
      "INFO:PML:embedding dimensionality is 256\n",
      "INFO:PML:running k-nn with k=1\n",
      "INFO:PML:embedding dimensionality is 256\n",
      "INFO:PML:running k-nn with k=1\n",
      "INFO:PML:embedding dimensionality is 256\n",
      "INFO:PML:running k-nn with k=1\n",
      "INFO:PML:embedding dimensionality is 256\n",
      "INFO:PML:running k-nn with k=1\n",
      "INFO:PML:embedding dimensionality is 256\n",
      "INFO:PML:running k-nn with k=1\n",
      "INFO:PML:embedding dimensionality is 256\n",
      "INFO:PML:running k-nn with k=1\n",
      "INFO:PML:embedding dimensionality is 256\n",
      "INFO:PML:running k-nn with k=1\n",
      "INFO:PML:embedding dimensionality is 256\n",
      "INFO:PML:running k-nn with k=1\n",
      "INFO:PML:embedding dimensionality is 256\n",
      "INFO:PML:running k-nn with k=1\n",
      "INFO:PML:embedding dimensionality is 256\n",
      "INFO:PML:running k-nn with k=1\n",
      "INFO:PML:embedding dimensionality is 256\n",
      "INFO:PML:running k-nn with k=1\n",
      "INFO:PML:embedding dimensionality is 256\n",
      "INFO:PML:running k-nn with k=1\n",
      "INFO:PML:embedding dimensionality is 256\n",
      "INFO:PML:running k-nn with k=1\n",
      "INFO:PML:embedding dimensionality is 256\n",
      "INFO:PML:running k-nn with k=1\n",
      "INFO:PML:embedding dimensionality is 256\n",
      "INFO:PML:running k-nn with k=1\n",
      "INFO:PML:embedding dimensionality is 256\n",
      "INFO:PML:running k-nn with k=1\n",
      "INFO:PML:embedding dimensionality is 256\n",
      "INFO:PML:running k-nn with k=1\n",
      "INFO:PML:embedding dimensionality is 256\n",
      "INFO:PML:running k-nn with k=1\n",
      "INFO:PML:embedding dimensionality is 256\n",
      "INFO:PML:running k-nn with k=1\n",
      "INFO:PML:embedding dimensionality is 256\n",
      "INFO:PML:running k-nn with k=1\n",
      "INFO:PML:embedding dimensionality is 256\n",
      "INFO:PML:running k-nn with k=1\n",
      "INFO:PML:embedding dimensionality is 256\n",
      "INFO:PML:running k-nn with k=1\n",
      "INFO:PML:embedding dimensionality is 256\n",
      "INFO:PML:running k-nn with k=1\n",
      "INFO:PML:embedding dimensionality is 256\n",
      "INFO:PML:running k-nn with k=1\n",
      "INFO:PML:embedding dimensionality is 256\n",
      "INFO:PML:running k-nn with k=1\n",
      "INFO:PML:embedding dimensionality is 256\n",
      "INFO:PML:running k-nn with k=1\n",
      "INFO:PML:embedding dimensionality is 256\n",
      "INFO:PML:running k-nn with k=1\n",
      "INFO:PML:embedding dimensionality is 256\n",
      "INFO:PML:running k-nn with k=1\n",
      "INFO:PML:embedding dimensionality is 256\n",
      "INFO:PML:running k-nn with k=1\n",
      "INFO:PML:embedding dimensionality is 256\n",
      "INFO:PML:running k-nn with k=1\n",
      "INFO:PML:embedding dimensionality is 256\n",
      "INFO:PML:running k-nn with k=1\n",
      "INFO:PML:embedding dimensionality is 256\n",
      "INFO:PML:running k-nn with k=1\n",
      "INFO:PML:embedding dimensionality is 256\n",
      "INFO:PML:running k-nn with k=1\n",
      "INFO:PML:embedding dimensionality is 256\n",
      "INFO:PML:running k-nn with k=1\n",
      "INFO:PML:embedding dimensionality is 256\n",
      "INFO:PML:running k-nn with k=1\n",
      "INFO:PML:embedding dimensionality is 256\n",
      "INFO:PML:running k-nn with k=1\n",
      "INFO:PML:embedding dimensionality is 256\n",
      "INFO:PML:running k-nn with k=1\n",
      "INFO:PML:embedding dimensionality is 256\n",
      "INFO:PML:running k-nn with k=1\n",
      "INFO:PML:embedding dimensionality is 256\n",
      "INFO:PML:running k-nn with k=1\n",
      "INFO:PML:embedding dimensionality is 256\n",
      "INFO:PML:running k-nn with k=1\n",
      "INFO:PML:embedding dimensionality is 256\n",
      "INFO:PML:running k-nn with k=1\n",
      "INFO:PML:embedding dimensionality is 256\n",
      "INFO:PML:running k-nn with k=1\n",
      "INFO:PML:embedding dimensionality is 256\n",
      "INFO:PML:running k-nn with k=1\n",
      "INFO:PML:embedding dimensionality is 256\n",
      "INFO:PML:running k-nn with k=1\n",
      "INFO:PML:embedding dimensionality is 256\n",
      "INFO:PML:running k-nn with k=1\n",
      "INFO:PML:embedding dimensionality is 256\n",
      "INFO:PML:running k-nn with k=1\n",
      "INFO:PML:embedding dimensionality is 256\n",
      "INFO:PML:running k-nn with k=1\n",
      "INFO:PML:embedding dimensionality is 256\n",
      "INFO:PML:running k-nn with k=1\n",
      "INFO:PML:embedding dimensionality is 256\n",
      "INFO:PML:running k-nn with k=1\n",
      "INFO:PML:embedding dimensionality is 256\n",
      "INFO:PML:running k-nn with k=1\n",
      "INFO:PML:embedding dimensionality is 256\n",
      "INFO:PML:running k-nn with k=1\n",
      "INFO:PML:embedding dimensionality is 256\n",
      "INFO:PML:running k-nn with k=1\n",
      "INFO:PML:embedding dimensionality is 256\n",
      "INFO:PML:running k-nn with k=1\n",
      "INFO:PML:embedding dimensionality is 256\n",
      "INFO:PML:running k-nn with k=1\n",
      "INFO:PML:embedding dimensionality is 256\n",
      "INFO:PML:running k-nn with k=1\n",
      "INFO:PML:embedding dimensionality is 256\n",
      "INFO:PML:running k-nn with k=1\n",
      "INFO:PML:embedding dimensionality is 256\n",
      "INFO:PML:running k-nn with k=1\n",
      "INFO:PML:embedding dimensionality is 256\n",
      "INFO:PML:running k-nn with k=1\n",
      "INFO:PML:embedding dimensionality is 256\n",
      "INFO:PML:running k-nn with k=1\n",
      "INFO:PML:embedding dimensionality is 256\n",
      "INFO:PML:running k-nn with k=1\n",
      "INFO:PML:embedding dimensionality is 256\n",
      "INFO:PML:running k-nn with k=1\n",
      "INFO:PML:embedding dimensionality is 256\n",
      "INFO:PML:running k-nn with k=1\n",
      "INFO:PML:embedding dimensionality is 256\n",
      "INFO:PML:running k-nn with k=1\n",
      "INFO:PML:embedding dimensionality is 256\n",
      "INFO:PML:running k-nn with k=1\n",
      "INFO:PML:embedding dimensionality is 256\n",
      "INFO:PML:running k-nn with k=1\n",
      "INFO:PML:embedding dimensionality is 256\n",
      "INFO:PML:running k-nn with k=1\n",
      "INFO:PML:embedding dimensionality is 256\n",
      "INFO:PML:running k-nn with k=1\n",
      "INFO:PML:embedding dimensionality is 256\n",
      "INFO:PML:running k-nn with k=1\n",
      "INFO:PML:embedding dimensionality is 256\n",
      "INFO:PML:running k-nn with k=1\n",
      "INFO:PML:embedding dimensionality is 256\n",
      "INFO:PML:running k-nn with k=1\n",
      "INFO:PML:embedding dimensionality is 256\n",
      "INFO:PML:running k-nn with k=1\n",
      "INFO:PML:embedding dimensionality is 256\n",
      "INFO:PML:running k-nn with k=1\n",
      "INFO:PML:embedding dimensionality is 256\n",
      "INFO:PML:running k-nn with k=1\n",
      "INFO:PML:embedding dimensionality is 256\n",
      "INFO:PML:running k-nn with k=1\n",
      "INFO:PML:embedding dimensionality is 256\n",
      "INFO:PML:running k-nn with k=1\n",
      "INFO:PML:embedding dimensionality is 256\n",
      "INFO:PML:running k-nn with k=1\n",
      "INFO:PML:embedding dimensionality is 256\n",
      "INFO:PML:running k-nn with k=1\n",
      "INFO:PML:embedding dimensionality is 256\n",
      "INFO:PML:running k-nn with k=1\n",
      "INFO:PML:embedding dimensionality is 256\n",
      "INFO:PML:running k-nn with k=1\n",
      "INFO:PML:embedding dimensionality is 256\n",
      "INFO:PML:running k-nn with k=1\n",
      "INFO:PML:embedding dimensionality is 256\n",
      "INFO:PML:running k-nn with k=1\n",
      "INFO:PML:embedding dimensionality is 256\n",
      "INFO:PML:running k-nn with k=1\n",
      "INFO:PML:embedding dimensionality is 256\n",
      "INFO:PML:running k-nn with k=1\n",
      "INFO:PML:embedding dimensionality is 256\n",
      "INFO:PML:running k-nn with k=1\n",
      "INFO:PML:embedding dimensionality is 256\n",
      "INFO:PML:running k-nn with k=1\n",
      "INFO:PML:embedding dimensionality is 256\n",
      "INFO:PML:running k-nn with k=1\n",
      "INFO:PML:embedding dimensionality is 256\n",
      "INFO:PML:running k-nn with k=1\n",
      "INFO:PML:embedding dimensionality is 256\n",
      "INFO:PML:running k-nn with k=1\n",
      "INFO:PML:embedding dimensionality is 256\n",
      "INFO:PML:running k-nn with k=1\n",
      "INFO:PML:embedding dimensionality is 256\n",
      "INFO:PML:running k-nn with k=1\n",
      "INFO:PML:embedding dimensionality is 256\n",
      "INFO:PML:running k-nn with k=1\n",
      "INFO:PML:embedding dimensionality is 256\n",
      "INFO:PML:running k-nn with k=1\n",
      "INFO:PML:embedding dimensionality is 256\n",
      "INFO:PML:running k-nn with k=1\n",
      "INFO:PML:embedding dimensionality is 256\n",
      "INFO:PML:running k-nn with k=1\n",
      "INFO:PML:embedding dimensionality is 256\n",
      "INFO:PML:running k-nn with k=1\n",
      "INFO:PML:embedding dimensionality is 256\n",
      "INFO:PML:running k-nn with k=1\n",
      "INFO:PML:embedding dimensionality is 256\n",
      "INFO:PML:running k-nn with k=1\n",
      "INFO:PML:embedding dimensionality is 256\n",
      "INFO:PML:running k-nn with k=1\n",
      "INFO:PML:embedding dimensionality is 256\n",
      "INFO:PML:running k-nn with k=1\n",
      "INFO:PML:embedding dimensionality is 256\n",
      "INFO:PML:running k-nn with k=1\n",
      "INFO:PML:embedding dimensionality is 256\n",
      "INFO:PML:running k-nn with k=1\n",
      "INFO:PML:embedding dimensionality is 256\n",
      "INFO:PML:running k-nn with k=1\n",
      "INFO:PML:embedding dimensionality is 256\n",
      "INFO:PML:running k-nn with k=1\n",
      "INFO:PML:embedding dimensionality is 256\n",
      "INFO:PML:running k-nn with k=1\n",
      "INFO:PML:embedding dimensionality is 256\n",
      "INFO:PML:running k-nn with k=1\n",
      "INFO:PML:embedding dimensionality is 256\n",
      "INFO:PML:running k-nn with k=1\n",
      "INFO:PML:embedding dimensionality is 256\n",
      "INFO:PML:running k-nn with k=1\n",
      "INFO:PML:embedding dimensionality is 256\n",
      "INFO:PML:running k-nn with k=1\n",
      "INFO:PML:embedding dimensionality is 256\n",
      "INFO:PML:running k-nn with k=1\n",
      "INFO:PML:embedding dimensionality is 256\n",
      "INFO:PML:running k-nn with k=1\n",
      "INFO:PML:embedding dimensionality is 256\n",
      "INFO:PML:running k-nn with k=1\n",
      "INFO:PML:embedding dimensionality is 256\n",
      "INFO:PML:running k-nn with k=1\n",
      "INFO:PML:embedding dimensionality is 256\n",
      "INFO:PML:running k-nn with k=1\n",
      "INFO:PML:embedding dimensionality is 256\n",
      "INFO:PML:running k-nn with k=1\n",
      "INFO:PML:embedding dimensionality is 256\n",
      "INFO:PML:running k-nn with k=1\n",
      "INFO:PML:embedding dimensionality is 256\n",
      "INFO:PML:running k-nn with k=1\n",
      "INFO:PML:embedding dimensionality is 256\n",
      "INFO:PML:running k-nn with k=1\n",
      "INFO:PML:embedding dimensionality is 256\n",
      "INFO:PML:running k-nn with k=1\n",
      "INFO:PML:embedding dimensionality is 256\n",
      "INFO:PML:running k-nn with k=1\n",
      "INFO:PML:embedding dimensionality is 256\n",
      "INFO:PML:running k-nn with k=1\n",
      "INFO:PML:embedding dimensionality is 256\n",
      "INFO:PML:running k-nn with k=1\n",
      "INFO:PML:embedding dimensionality is 256\n",
      "INFO:PML:running k-nn with k=1\n",
      "INFO:PML:embedding dimensionality is 256\n",
      "INFO:PML:running k-nn with k=1\n",
      "INFO:PML:embedding dimensionality is 256\n",
      "INFO:PML:running k-nn with k=1\n",
      "INFO:PML:embedding dimensionality is 256\n",
      "INFO:PML:running k-nn with k=1\n",
      "INFO:PML:embedding dimensionality is 256\n",
      "INFO:PML:running k-nn with k=1\n",
      "INFO:PML:embedding dimensionality is 256\n",
      "INFO:PML:running k-nn with k=1\n",
      "INFO:PML:embedding dimensionality is 256\n",
      "INFO:PML:running k-nn with k=1\n",
      "INFO:PML:embedding dimensionality is 256\n",
      "INFO:PML:running k-nn with k=1\n",
      "INFO:PML:embedding dimensionality is 256\n",
      "INFO:PML:running k-nn with k=1\n",
      "INFO:PML:embedding dimensionality is 256\n",
      "INFO:PML:running k-nn with k=1\n",
      "INFO:PML:embedding dimensionality is 256\n",
      "INFO:PML:running k-nn with k=1\n",
      "INFO:PML:embedding dimensionality is 256\n",
      "INFO:PML:running k-nn with k=1\n",
      "INFO:PML:embedding dimensionality is 256\n",
      "INFO:PML:running k-nn with k=1\n",
      "INFO:PML:embedding dimensionality is 256\n",
      "INFO:PML:running k-nn with k=1\n",
      "INFO:PML:embedding dimensionality is 256\n",
      "INFO:PML:running k-nn with k=1\n",
      "INFO:PML:embedding dimensionality is 256\n",
      "INFO:PML:running k-nn with k=1\n",
      "INFO:PML:embedding dimensionality is 256\n",
      "INFO:PML:running k-nn with k=1\n",
      "INFO:PML:embedding dimensionality is 256\n",
      "INFO:PML:running k-nn with k=1\n",
      "INFO:PML:embedding dimensionality is 256\n",
      "INFO:PML:running k-nn with k=1\n",
      "INFO:PML:embedding dimensionality is 256\n",
      "INFO:PML:running k-nn with k=1\n",
      "INFO:PML:embedding dimensionality is 256\n",
      "INFO:PML:running k-nn with k=1\n",
      "INFO:PML:embedding dimensionality is 256\n",
      "INFO:PML:running k-nn with k=1\n",
      "INFO:PML:embedding dimensionality is 256\n",
      "INFO:PML:running k-nn with k=1\n",
      "INFO:PML:embedding dimensionality is 256\n",
      "INFO:PML:running k-nn with k=1\n",
      "INFO:PML:embedding dimensionality is 256\n",
      "INFO:PML:running k-nn with k=1\n",
      "INFO:PML:embedding dimensionality is 256\n",
      "INFO:PML:running k-nn with k=1\n",
      "INFO:PML:embedding dimensionality is 256\n",
      "INFO:PML:running k-nn with k=1\n",
      "INFO:PML:embedding dimensionality is 256\n",
      "INFO:PML:running k-nn with k=1\n",
      "INFO:PML:embedding dimensionality is 256\n",
      "INFO:PML:running k-nn with k=1\n",
      "INFO:PML:embedding dimensionality is 256\n",
      "INFO:PML:running k-nn with k=1\n",
      "INFO:PML:embedding dimensionality is 256\n",
      "INFO:PML:running k-nn with k=1\n",
      "INFO:PML:embedding dimensionality is 256\n",
      "INFO:PML:running k-nn with k=1\n",
      "INFO:PML:embedding dimensionality is 256\n",
      "INFO:PML:running k-nn with k=1\n",
      "INFO:PML:embedding dimensionality is 256\n",
      "INFO:PML:running k-nn with k=1\n",
      "INFO:PML:embedding dimensionality is 256\n",
      "INFO:PML:running k-nn with k=1\n",
      "INFO:PML:embedding dimensionality is 256\n",
      "INFO:PML:running k-nn with k=1\n",
      "INFO:PML:embedding dimensionality is 256\n",
      "INFO:PML:running k-nn with k=1\n",
      "INFO:PML:embedding dimensionality is 256\n",
      "INFO:PML:running k-nn with k=1\n",
      "INFO:PML:embedding dimensionality is 256\n",
      "INFO:PML:running k-nn with k=1\n",
      "INFO:PML:embedding dimensionality is 256\n",
      "INFO:PML:running k-nn with k=1\n",
      "INFO:PML:embedding dimensionality is 256\n",
      "INFO:PML:running k-nn with k=1\n",
      "INFO:PML:embedding dimensionality is 256\n",
      "INFO:PML:running k-nn with k=1\n",
      "INFO:PML:embedding dimensionality is 256\n",
      "INFO:PML:running k-nn with k=1\n",
      "INFO:PML:embedding dimensionality is 256\n",
      "INFO:PML:running k-nn with k=1\n",
      "INFO:PML:embedding dimensionality is 256\n",
      "INFO:PML:running k-nn with k=1\n",
      "INFO:PML:embedding dimensionality is 256\n",
      "INFO:PML:running k-nn with k=1\n",
      "INFO:PML:embedding dimensionality is 256\n",
      "INFO:PML:running k-nn with k=1\n",
      "INFO:PML:embedding dimensionality is 256\n",
      "INFO:PML:running k-nn with k=1\n",
      "INFO:PML:embedding dimensionality is 256\n",
      "INFO:PML:running k-nn with k=1\n",
      "INFO:PML:embedding dimensionality is 256\n",
      "INFO:PML:running k-nn with k=1\n",
      "INFO:PML:embedding dimensionality is 256\n",
      "INFO:PML:running k-nn with k=1\n",
      "INFO:PML:embedding dimensionality is 256\n",
      "INFO:PML:running k-nn with k=1\n",
      "INFO:PML:embedding dimensionality is 256\n",
      "INFO:PML:running k-nn with k=1\n",
      "INFO:PML:embedding dimensionality is 256\n",
      "INFO:PML:running k-nn with k=1\n",
      "INFO:PML:embedding dimensionality is 256\n",
      "INFO:PML:running k-nn with k=1\n",
      "INFO:PML:embedding dimensionality is 256\n",
      "INFO:PML:running k-nn with k=1\n",
      "INFO:PML:embedding dimensionality is 256\n",
      "INFO:PML:running k-nn with k=1\n",
      "INFO:PML:embedding dimensionality is 256\n",
      "INFO:PML:running k-nn with k=1\n",
      "INFO:PML:embedding dimensionality is 256\n",
      "INFO:PML:running k-nn with k=1\n",
      "INFO:PML:embedding dimensionality is 256\n",
      "INFO:PML:running k-nn with k=1\n",
      "INFO:PML:embedding dimensionality is 256\n",
      "INFO:PML:running k-nn with k=1\n",
      "INFO:PML:embedding dimensionality is 256\n",
      "INFO:PML:running k-nn with k=1\n",
      "INFO:PML:embedding dimensionality is 256\n",
      "INFO:PML:running k-nn with k=1\n",
      "INFO:PML:embedding dimensionality is 256\n",
      "INFO:PML:running k-nn with k=1\n",
      "INFO:PML:embedding dimensionality is 256\n",
      "INFO:PML:running k-nn with k=1\n",
      "INFO:PML:embedding dimensionality is 256\n",
      "INFO:PML:running k-nn with k=1\n",
      "INFO:PML:embedding dimensionality is 256\n",
      "INFO:PML:running k-nn with k=1\n",
      "INFO:PML:embedding dimensionality is 256\n",
      "INFO:PML:running k-nn with k=1\n",
      "INFO:PML:embedding dimensionality is 256\n",
      "INFO:PML:running k-nn with k=1\n",
      "INFO:PML:embedding dimensionality is 256\n",
      "INFO:PML:running k-nn with k=1\n",
      "INFO:PML:embedding dimensionality is 256\n",
      "INFO:PML:running k-nn with k=1\n",
      "INFO:PML:embedding dimensionality is 256\n",
      "INFO:PML:running k-nn with k=1\n",
      "INFO:PML:embedding dimensionality is 256\n",
      "INFO:PML:running k-nn with k=1\n",
      "INFO:PML:embedding dimensionality is 256\n",
      "INFO:PML:running k-nn with k=1\n",
      "INFO:PML:embedding dimensionality is 256\n",
      "INFO:PML:running k-nn with k=1\n",
      "INFO:PML:embedding dimensionality is 256\n",
      "INFO:PML:running k-nn with k=1\n",
      "INFO:PML:embedding dimensionality is 256\n",
      "INFO:PML:running k-nn with k=1\n",
      "INFO:PML:embedding dimensionality is 256\n",
      "INFO:PML:running k-nn with k=1\n",
      "INFO:PML:embedding dimensionality is 256\n",
      "INFO:PML:running k-nn with k=1\n",
      "INFO:PML:embedding dimensionality is 256\n",
      "INFO:PML:running k-nn with k=1\n",
      "INFO:PML:embedding dimensionality is 256\n",
      "INFO:PML:running k-nn with k=1\n",
      "INFO:PML:embedding dimensionality is 256\n",
      "INFO:PML:running k-nn with k=1\n",
      "INFO:PML:embedding dimensionality is 256\n",
      "INFO:PML:running k-nn with k=1\n",
      "INFO:PML:embedding dimensionality is 256\n",
      "INFO:PML:running k-nn with k=1\n",
      "INFO:PML:embedding dimensionality is 256\n",
      "INFO:PML:running k-nn with k=1\n",
      "INFO:PML:embedding dimensionality is 256\n",
      "INFO:PML:running k-nn with k=1\n",
      "INFO:PML:embedding dimensionality is 256\n",
      "INFO:PML:running k-nn with k=1\n",
      "INFO:PML:embedding dimensionality is 256\n",
      "INFO:PML:running k-nn with k=1\n",
      "INFO:PML:embedding dimensionality is 256\n",
      "INFO:PML:running k-nn with k=1\n",
      "INFO:PML:embedding dimensionality is 256\n",
      "INFO:PML:running k-nn with k=1\n",
      "INFO:PML:embedding dimensionality is 256\n",
      "INFO:PML:running k-nn with k=1\n",
      "INFO:PML:embedding dimensionality is 256\n",
      "INFO:PML:running k-nn with k=1\n",
      "INFO:PML:embedding dimensionality is 256\n",
      "INFO:PML:running k-nn with k=1\n",
      "INFO:PML:embedding dimensionality is 256\n",
      "INFO:PML:running k-nn with k=1\n",
      "INFO:PML:embedding dimensionality is 256\n",
      "INFO:PML:running k-nn with k=1\n",
      "INFO:PML:embedding dimensionality is 256\n",
      "INFO:PML:running k-nn with k=1\n",
      "INFO:PML:embedding dimensionality is 256\n",
      "INFO:PML:running k-nn with k=1\n",
      "INFO:PML:embedding dimensionality is 256\n",
      "INFO:PML:running k-nn with k=1\n",
      "INFO:PML:embedding dimensionality is 256\n",
      "INFO:PML:running k-nn with k=1\n",
      "INFO:PML:embedding dimensionality is 256\n",
      "INFO:PML:running k-nn with k=1\n",
      "INFO:PML:embedding dimensionality is 256\n",
      "INFO:PML:running k-nn with k=1\n",
      "INFO:PML:embedding dimensionality is 256\n",
      "INFO:PML:running k-nn with k=1\n",
      "INFO:PML:embedding dimensionality is 256\n",
      "INFO:PML:running k-nn with k=1\n",
      "INFO:PML:embedding dimensionality is 256\n",
      "INFO:PML:running k-nn with k=1\n",
      "INFO:PML:embedding dimensionality is 256\n",
      "INFO:PML:running k-nn with k=1\n",
      "INFO:PML:embedding dimensionality is 256\n",
      "INFO:PML:running k-nn with k=1\n",
      "INFO:PML:embedding dimensionality is 256\n",
      "INFO:PML:running k-nn with k=1\n",
      "INFO:PML:embedding dimensionality is 256\n",
      "INFO:PML:running k-nn with k=1\n",
      "INFO:PML:embedding dimensionality is 256\n",
      "INFO:PML:running k-nn with k=1\n",
      "INFO:PML:embedding dimensionality is 256\n",
      "INFO:PML:running k-nn with k=1\n",
      "INFO:PML:embedding dimensionality is 256\n",
      "INFO:PML:running k-nn with k=1\n",
      "INFO:PML:embedding dimensionality is 256\n",
      "INFO:PML:running k-nn with k=1\n",
      "INFO:PML:embedding dimensionality is 256\n",
      "INFO:PML:running k-nn with k=1\n",
      "INFO:PML:embedding dimensionality is 256\n",
      "INFO:PML:running k-nn with k=1\n",
      "INFO:PML:embedding dimensionality is 256\n",
      "INFO:PML:running k-nn with k=1\n",
      "INFO:PML:embedding dimensionality is 256\n",
      "INFO:PML:running k-nn with k=1\n",
      "INFO:PML:embedding dimensionality is 256\n",
      "INFO:PML:running k-nn with k=1\n",
      "INFO:PML:embedding dimensionality is 256\n",
      "INFO:PML:running k-nn with k=1\n",
      "INFO:PML:embedding dimensionality is 256\n",
      "INFO:PML:running k-nn with k=1\n",
      "INFO:PML:embedding dimensionality is 256\n",
      "INFO:PML:running k-nn with k=1\n",
      "INFO:PML:embedding dimensionality is 256\n",
      "INFO:PML:running k-nn with k=1\n",
      "INFO:PML:embedding dimensionality is 256\n",
      "INFO:PML:running k-nn with k=1\n",
      "INFO:PML:embedding dimensionality is 256\n",
      "INFO:PML:running k-nn with k=1\n",
      "INFO:PML:embedding dimensionality is 256\n",
      "INFO:PML:running k-nn with k=1\n",
      "INFO:PML:embedding dimensionality is 256\n",
      "INFO:PML:running k-nn with k=1\n",
      "INFO:PML:embedding dimensionality is 256\n",
      "INFO:PML:running k-nn with k=1\n",
      "INFO:PML:embedding dimensionality is 256\n",
      "INFO:PML:running k-nn with k=1\n",
      "INFO:PML:embedding dimensionality is 256\n",
      "INFO:PML:running k-nn with k=1\n",
      "INFO:PML:embedding dimensionality is 256\n",
      "INFO:PML:running k-nn with k=1\n",
      "INFO:PML:embedding dimensionality is 256\n",
      "INFO:PML:running k-nn with k=1\n",
      "INFO:PML:embedding dimensionality is 256\n",
      "INFO:PML:running k-nn with k=1\n",
      "INFO:PML:embedding dimensionality is 256\n",
      "INFO:PML:running k-nn with k=1\n",
      "INFO:PML:embedding dimensionality is 256\n",
      "INFO:PML:running k-nn with k=1\n",
      "INFO:PML:embedding dimensionality is 256\n",
      "INFO:PML:running k-nn with k=1\n",
      "INFO:PML:embedding dimensionality is 256\n",
      "INFO:PML:running k-nn with k=1\n",
      "INFO:PML:embedding dimensionality is 256\n",
      "INFO:PML:running k-nn with k=1\n",
      "INFO:PML:embedding dimensionality is 256\n",
      "INFO:PML:running k-nn with k=1\n",
      "INFO:PML:embedding dimensionality is 256\n",
      "INFO:PML:running k-nn with k=1\n",
      "INFO:PML:embedding dimensionality is 256\n",
      "INFO:PML:running k-nn with k=1\n",
      "INFO:PML:embedding dimensionality is 256\n",
      "INFO:PML:running k-nn with k=1\n",
      "INFO:PML:embedding dimensionality is 256\n",
      "INFO:PML:running k-nn with k=1\n",
      "INFO:PML:embedding dimensionality is 256\n",
      "INFO:PML:running k-nn with k=1\n",
      "INFO:PML:embedding dimensionality is 256\n",
      "INFO:PML:running k-nn with k=1\n",
      "INFO:PML:embedding dimensionality is 256\n",
      "INFO:PML:running k-nn with k=1\n",
      "INFO:PML:embedding dimensionality is 256\n",
      "INFO:PML:running k-nn with k=1\n",
      "INFO:PML:embedding dimensionality is 256\n",
      "INFO:PML:running k-nn with k=1\n",
      "INFO:PML:embedding dimensionality is 256\n",
      "INFO:PML:running k-nn with k=1\n",
      "INFO:PML:embedding dimensionality is 256\n",
      "INFO:PML:running k-nn with k=1\n",
      "INFO:PML:embedding dimensionality is 256\n",
      "INFO:PML:running k-nn with k=1\n",
      "INFO:PML:embedding dimensionality is 256\n",
      "INFO:PML:running k-nn with k=1\n",
      "INFO:PML:embedding dimensionality is 256\n",
      "INFO:PML:running k-nn with k=1\n",
      "INFO:PML:embedding dimensionality is 256\n",
      "INFO:PML:running k-nn with k=1\n",
      "INFO:PML:embedding dimensionality is 256\n",
      "INFO:PML:running k-nn with k=1\n",
      "INFO:PML:embedding dimensionality is 256\n",
      "INFO:PML:running k-nn with k=1\n",
      "INFO:PML:embedding dimensionality is 256\n",
      "INFO:PML:running k-nn with k=1\n",
      "INFO:PML:embedding dimensionality is 256\n",
      "INFO:PML:running k-nn with k=1\n",
      "INFO:PML:embedding dimensionality is 256\n",
      "INFO:PML:running k-nn with k=1\n",
      "INFO:PML:embedding dimensionality is 256\n",
      "INFO:PML:running k-nn with k=1\n",
      "INFO:PML:embedding dimensionality is 256\n",
      "INFO:PML:running k-nn with k=1\n",
      "INFO:PML:embedding dimensionality is 256\n",
      "INFO:PML:running k-nn with k=1\n",
      "INFO:PML:embedding dimensionality is 256\n",
      "INFO:PML:running k-nn with k=1\n",
      "INFO:PML:embedding dimensionality is 256\n",
      "INFO:PML:running k-nn with k=1\n",
      "INFO:PML:embedding dimensionality is 256\n",
      "INFO:PML:running k-nn with k=1\n",
      "INFO:PML:embedding dimensionality is 256\n",
      "INFO:PML:running k-nn with k=1\n",
      "INFO:PML:embedding dimensionality is 256\n",
      "INFO:PML:running k-nn with k=1\n",
      "INFO:PML:embedding dimensionality is 256\n",
      "INFO:PML:running k-nn with k=1\n",
      "INFO:PML:embedding dimensionality is 256\n",
      "INFO:PML:running k-nn with k=1\n",
      "INFO:PML:embedding dimensionality is 256\n",
      "INFO:PML:running k-nn with k=1\n",
      "INFO:PML:embedding dimensionality is 256\n",
      "INFO:PML:running k-nn with k=1\n",
      "INFO:PML:embedding dimensionality is 256\n",
      "INFO:PML:running k-nn with k=1\n",
      "INFO:PML:embedding dimensionality is 256\n",
      "INFO:PML:running k-nn with k=1\n",
      "INFO:PML:embedding dimensionality is 256\n",
      "INFO:PML:running k-nn with k=1\n",
      "INFO:PML:embedding dimensionality is 256\n",
      "INFO:PML:running k-nn with k=1\n",
      "INFO:PML:embedding dimensionality is 256\n",
      "INFO:PML:running k-nn with k=1\n",
      "INFO:PML:embedding dimensionality is 256\n",
      "INFO:PML:running k-nn with k=1\n",
      "INFO:PML:embedding dimensionality is 256\n",
      "INFO:PML:running k-nn with k=1\n",
      "INFO:PML:embedding dimensionality is 256\n",
      "INFO:PML:running k-nn with k=1\n",
      "INFO:PML:embedding dimensionality is 256\n",
      "INFO:PML:running k-nn with k=1\n",
      "INFO:PML:embedding dimensionality is 256\n",
      "INFO:PML:running k-nn with k=1\n",
      "INFO:PML:embedding dimensionality is 256\n",
      "INFO:PML:running k-nn with k=1\n",
      "INFO:PML:embedding dimensionality is 256\n",
      "INFO:PML:running k-nn with k=1\n",
      "INFO:PML:embedding dimensionality is 256\n",
      "INFO:PML:running k-nn with k=1\n",
      "INFO:PML:embedding dimensionality is 256\n",
      "INFO:PML:running k-nn with k=1\n",
      "INFO:PML:embedding dimensionality is 256\n",
      "INFO:PML:running k-nn with k=1\n",
      "INFO:PML:embedding dimensionality is 256\n",
      "INFO:PML:running k-nn with k=1\n",
      "INFO:PML:embedding dimensionality is 256\n",
      "INFO:PML:running k-nn with k=1\n",
      "INFO:PML:embedding dimensionality is 256\n",
      "INFO:PML:running k-nn with k=1\n",
      "INFO:PML:embedding dimensionality is 256\n",
      "INFO:PML:running k-nn with k=1\n",
      "INFO:PML:embedding dimensionality is 256\n",
      "INFO:PML:running k-nn with k=1\n",
      "INFO:PML:embedding dimensionality is 256\n",
      "INFO:PML:running k-nn with k=1\n",
      "INFO:PML:embedding dimensionality is 256\n",
      "INFO:PML:running k-nn with k=1\n",
      "INFO:PML:embedding dimensionality is 256\n",
      "INFO:PML:running k-nn with k=1\n",
      "INFO:PML:embedding dimensionality is 256\n",
      "INFO:PML:running k-nn with k=1\n",
      "INFO:PML:embedding dimensionality is 256\n",
      "INFO:PML:running k-nn with k=1\n",
      "INFO:PML:embedding dimensionality is 256\n",
      "INFO:PML:running k-nn with k=1\n",
      "INFO:PML:embedding dimensionality is 256\n",
      "INFO:PML:running k-nn with k=1\n",
      "INFO:PML:embedding dimensionality is 256\n",
      "INFO:PML:running k-nn with k=1\n",
      "INFO:PML:embedding dimensionality is 256\n",
      "INFO:PML:running k-nn with k=1\n",
      "INFO:PML:embedding dimensionality is 256\n",
      "INFO:PML:running k-nn with k=1\n",
      "INFO:PML:embedding dimensionality is 256\n",
      "INFO:PML:running k-nn with k=1\n",
      "INFO:PML:embedding dimensionality is 256\n",
      "INFO:PML:running k-nn with k=1\n",
      "INFO:PML:embedding dimensionality is 256\n",
      "INFO:PML:running k-nn with k=1\n",
      "INFO:PML:embedding dimensionality is 256\n",
      "INFO:PML:running k-nn with k=1\n",
      "INFO:PML:embedding dimensionality is 256\n",
      "INFO:PML:running k-nn with k=1\n",
      "INFO:PML:embedding dimensionality is 256\n",
      "INFO:PML:running k-nn with k=1\n",
      "INFO:PML:embedding dimensionality is 256\n",
      "INFO:PML:running k-nn with k=1\n",
      "INFO:PML:embedding dimensionality is 256\n",
      "INFO:PML:running k-nn with k=1\n",
      "INFO:PML:embedding dimensionality is 256\n",
      "INFO:PML:running k-nn with k=1\n",
      "INFO:PML:embedding dimensionality is 256\n",
      "INFO:PML:running k-nn with k=1\n",
      "INFO:PML:embedding dimensionality is 256\n",
      "INFO:PML:running k-nn with k=1\n",
      "INFO:PML:embedding dimensionality is 256\n",
      "INFO:PML:running k-nn with k=1\n",
      "INFO:PML:embedding dimensionality is 256\n",
      "INFO:PML:running k-nn with k=1\n",
      "INFO:PML:embedding dimensionality is 256\n",
      "INFO:PML:running k-nn with k=1\n",
      "INFO:PML:embedding dimensionality is 256\n",
      "INFO:PML:running k-nn with k=1\n",
      "INFO:PML:embedding dimensionality is 256\n",
      "INFO:PML:running k-nn with k=1\n",
      "INFO:PML:embedding dimensionality is 256\n",
      "INFO:PML:running k-nn with k=1\n",
      "INFO:PML:embedding dimensionality is 256\n",
      "INFO:PML:running k-nn with k=1\n",
      "INFO:PML:embedding dimensionality is 256\n",
      "INFO:PML:running k-nn with k=1\n",
      "INFO:PML:embedding dimensionality is 256\n",
      "INFO:PML:running k-nn with k=1\n",
      "INFO:PML:embedding dimensionality is 256\n",
      "INFO:PML:running k-nn with k=1\n",
      "INFO:PML:embedding dimensionality is 256\n",
      "INFO:PML:running k-nn with k=1\n",
      "INFO:PML:embedding dimensionality is 256\n",
      "INFO:PML:running k-nn with k=1\n",
      "INFO:PML:embedding dimensionality is 256\n",
      "INFO:PML:running k-nn with k=1\n",
      "INFO:PML:embedding dimensionality is 256\n",
      "INFO:PML:running k-nn with k=1\n",
      "INFO:PML:embedding dimensionality is 256\n",
      "INFO:PML:running k-nn with k=1\n",
      "INFO:PML:embedding dimensionality is 256\n",
      "INFO:PML:running k-nn with k=1\n",
      "INFO:PML:embedding dimensionality is 256\n",
      "INFO:PML:running k-nn with k=1\n",
      "INFO:PML:embedding dimensionality is 256\n",
      "INFO:PML:running k-nn with k=1\n",
      "INFO:PML:embedding dimensionality is 256\n",
      "INFO:PML:running k-nn with k=1\n",
      "INFO:PML:embedding dimensionality is 256\n",
      "INFO:PML:running k-nn with k=1\n",
      "INFO:PML:embedding dimensionality is 256\n",
      "INFO:PML:running k-nn with k=1\n",
      "INFO:PML:embedding dimensionality is 256\n",
      "INFO:PML:running k-nn with k=1\n",
      "INFO:PML:embedding dimensionality is 256\n",
      "INFO:PML:running k-nn with k=1\n",
      "INFO:PML:embedding dimensionality is 256\n",
      "INFO:PML:running k-nn with k=1\n",
      "INFO:PML:embedding dimensionality is 256\n",
      "INFO:PML:running k-nn with k=1\n",
      "INFO:PML:embedding dimensionality is 256\n",
      "INFO:PML:running k-nn with k=1\n",
      "INFO:PML:embedding dimensionality is 256\n",
      "INFO:PML:running k-nn with k=1\n",
      "INFO:PML:embedding dimensionality is 256\n",
      "INFO:PML:running k-nn with k=1\n",
      "INFO:PML:embedding dimensionality is 256\n",
      "INFO:PML:running k-nn with k=1\n",
      "INFO:PML:embedding dimensionality is 256\n",
      "INFO:PML:running k-nn with k=1\n",
      "INFO:PML:embedding dimensionality is 256\n",
      "INFO:PML:running k-nn with k=1\n",
      "INFO:PML:embedding dimensionality is 256\n",
      "INFO:PML:running k-nn with k=1\n",
      "INFO:PML:embedding dimensionality is 256\n",
      "INFO:PML:running k-nn with k=1\n",
      "INFO:PML:embedding dimensionality is 256\n",
      "INFO:PML:running k-nn with k=1\n",
      "INFO:PML:embedding dimensionality is 256\n",
      "INFO:PML:running k-nn with k=1\n",
      "INFO:PML:embedding dimensionality is 256\n",
      "INFO:PML:running k-nn with k=1\n",
      "INFO:PML:embedding dimensionality is 256\n",
      "INFO:PML:running k-nn with k=1\n",
      "INFO:PML:embedding dimensionality is 256\n",
      "INFO:PML:running k-nn with k=1\n",
      "INFO:PML:embedding dimensionality is 256\n",
      "INFO:PML:running k-nn with k=1\n",
      "INFO:PML:embedding dimensionality is 256\n",
      "INFO:PML:running k-nn with k=1\n",
      "INFO:PML:embedding dimensionality is 256\n",
      "INFO:PML:running k-nn with k=1\n",
      "INFO:PML:embedding dimensionality is 256\n",
      "INFO:PML:running k-nn with k=1\n",
      "INFO:PML:embedding dimensionality is 256\n",
      "INFO:PML:running k-nn with k=1\n",
      "INFO:PML:embedding dimensionality is 256\n",
      "INFO:PML:running k-nn with k=1\n",
      "INFO:PML:embedding dimensionality is 256\n",
      "INFO:PML:running k-nn with k=1\n",
      "INFO:PML:embedding dimensionality is 256\n",
      "INFO:PML:running k-nn with k=1\n",
      "INFO:PML:embedding dimensionality is 256\n",
      "INFO:PML:running k-nn with k=1\n",
      "INFO:PML:embedding dimensionality is 256\n",
      "INFO:PML:running k-nn with k=1\n",
      "INFO:PML:embedding dimensionality is 256\n",
      "INFO:PML:running k-nn with k=1\n",
      "INFO:PML:embedding dimensionality is 256\n",
      "INFO:PML:running k-nn with k=1\n",
      "INFO:PML:embedding dimensionality is 256\n",
      "INFO:PML:running k-nn with k=1\n",
      "INFO:PML:embedding dimensionality is 256\n",
      "INFO:PML:running k-nn with k=1\n",
      "INFO:PML:embedding dimensionality is 256\n",
      "INFO:PML:running k-nn with k=1\n",
      "INFO:PML:embedding dimensionality is 256\n",
      "INFO:PML:running k-nn with k=1\n",
      "INFO:PML:embedding dimensionality is 256\n",
      "INFO:PML:running k-nn with k=1\n",
      "INFO:PML:embedding dimensionality is 256\n",
      "INFO:PML:running k-nn with k=1\n",
      "INFO:PML:embedding dimensionality is 256\n",
      "INFO:PML:running k-nn with k=1\n",
      "INFO:PML:embedding dimensionality is 256\n",
      "INFO:PML:running k-nn with k=1\n",
      "INFO:PML:embedding dimensionality is 256\n",
      "INFO:PML:running k-nn with k=1\n",
      "INFO:PML:embedding dimensionality is 256\n",
      "INFO:PML:running k-nn with k=1\n",
      "INFO:PML:embedding dimensionality is 256\n",
      "INFO:PML:running k-nn with k=1\n",
      "INFO:PML:embedding dimensionality is 256\n",
      "INFO:PML:running k-nn with k=1\n",
      "INFO:PML:embedding dimensionality is 256\n",
      "INFO:PML:running k-nn with k=1\n",
      "INFO:PML:embedding dimensionality is 256\n",
      "INFO:PML:running k-nn with k=1\n",
      "INFO:PML:embedding dimensionality is 256\n",
      "INFO:PML:running k-nn with k=1\n",
      "INFO:PML:embedding dimensionality is 256\n",
      "INFO:PML:running k-nn with k=1\n",
      "INFO:PML:embedding dimensionality is 256\n",
      "INFO:PML:running k-nn with k=1\n",
      "INFO:PML:embedding dimensionality is 256\n",
      "INFO:PML:running k-nn with k=1\n",
      "INFO:PML:embedding dimensionality is 256\n",
      "INFO:PML:running k-nn with k=1\n",
      "INFO:PML:embedding dimensionality is 256\n",
      "INFO:PML:running k-nn with k=1\n",
      "INFO:PML:embedding dimensionality is 256\n",
      "INFO:PML:running k-nn with k=1\n",
      "INFO:PML:embedding dimensionality is 256\n",
      "INFO:PML:running k-nn with k=1\n",
      "INFO:PML:embedding dimensionality is 256\n",
      "INFO:PML:running k-nn with k=1\n",
      "INFO:PML:embedding dimensionality is 256\n",
      "INFO:PML:running k-nn with k=1\n",
      "INFO:PML:embedding dimensionality is 256\n",
      "INFO:PML:running k-nn with k=1\n",
      "INFO:PML:embedding dimensionality is 256\n",
      "INFO:PML:running k-nn with k=1\n",
      "INFO:PML:embedding dimensionality is 256\n",
      "INFO:PML:running k-nn with k=1\n",
      "INFO:PML:embedding dimensionality is 256\n",
      "INFO:PML:running k-nn with k=1\n",
      "INFO:PML:embedding dimensionality is 256\n",
      "INFO:PML:running k-nn with k=1\n",
      "INFO:PML:embedding dimensionality is 256\n",
      "INFO:PML:running k-nn with k=1\n",
      "INFO:PML:embedding dimensionality is 256\n",
      "INFO:PML:running k-nn with k=1\n",
      "INFO:PML:embedding dimensionality is 256\n",
      "INFO:PML:running k-nn with k=1\n",
      "INFO:PML:embedding dimensionality is 256\n",
      "INFO:PML:running k-nn with k=1\n",
      "INFO:PML:embedding dimensionality is 256\n"
     ]
    }
   ],
   "source": [
    "# У меня в память не помещаются чанки большего размера, поэтому так)\n",
    "labels = list(val_data.label) \n",
    "batch_size = int(len(labels) / len(labels))\n",
    "pred_labels = []\n",
    "\n",
    "for images in np.array_split(val_data.file_name, len(labels)):\n",
    "    image_paths = [os.path.join(image_dir, image) for image in images]\n",
    "    cur_pred_labels, cur_pred_cluster_ids = rec.get_labels_for_batch(image_paths)\n",
    "\n",
    "    pred_labels.extend(cur_pred_labels)"
   ]
  },
  {
   "cell_type": "markdown",
   "id": "ea9d705e-0076-4128-92e4-aa534971c100",
   "metadata": {},
   "source": [
    "## Оценим полученную кластеризацию.\n",
    "\n",
    "Существуют различные метрики для оценки качества, но по ТЗ метрика должна удовлетворять свойствам: однородность, полнота. В некоторым смысле это точность и полнота в задаче классификации, а ее взвешенный коллега - F-score. Аналогично в кластеризации - это V-score, взвешенная мера между гомогенностью (однородностью) и полнотой. \n",
    "\n",
    "Посчитаем гомогенность, полноту и V-Score"
   ]
  },
  {
   "cell_type": "code",
   "execution_count": 14,
   "id": "35387144-0c04-4655-a10b-bda61eae5c88",
   "metadata": {},
   "outputs": [
    {
     "data": {
      "text/plain": [
       "(0.9936827951034527, 0.9972532513226117, 0.9954648216642843)"
      ]
     },
     "execution_count": 14,
     "metadata": {},
     "output_type": "execute_result"
    }
   ],
   "source": [
    "homogeneity_completeness_v_measure(labels, pred_labels)"
   ]
  },
  {
   "cell_type": "markdown",
   "id": "8335e578-1397-4b99-bf62-0d5148a3bed4",
   "metadata": {},
   "source": [
    "Вывод - кластеризация прошла успешно"
   ]
  },
  {
   "cell_type": "code",
   "execution_count": null,
   "id": "5d161640-722e-4c20-91f8-da16da8f1812",
   "metadata": {},
   "outputs": [],
   "source": []
  }
 ],
 "metadata": {
  "kernelspec": {
   "display_name": "Python 3 (ipykernel)",
   "language": "python",
   "name": "python3"
  },
  "language_info": {
   "codemirror_mode": {
    "name": "ipython",
    "version": 3
   },
   "file_extension": ".py",
   "mimetype": "text/x-python",
   "name": "python",
   "nbconvert_exporter": "python",
   "pygments_lexer": "ipython3",
   "version": "3.9.10"
  }
 },
 "nbformat": 4,
 "nbformat_minor": 5
}
